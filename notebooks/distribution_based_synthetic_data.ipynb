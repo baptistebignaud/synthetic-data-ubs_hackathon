{
 "cells": [
  {
   "cell_type": "markdown",
   "id": "bbb949f8-1e71-4ccc-9e82-12d5cdcf7543",
   "metadata": {},
   "source": [
    "# Import librairies"
   ]
  },
  {
   "cell_type": "code",
   "execution_count": 11,
   "id": "9e826dc1-2cfb-49a6-b7de-f8b816f6a72d",
   "metadata": {},
   "outputs": [],
   "source": [
    "import pandas as pd\n",
    "import os\n",
    "import matplotlib.pyplot as plt\n",
    "import statsmodels.api as sm\n",
    "import seaborn as sns\n",
    "import numpy as np\n",
    "import statsmodels.api as sm\n",
    "from sklearn.ensemble import RandomForestRegressor\n",
    "from sklearn.metrics import mean_squared_error\n",
    "from sklearn.mixture import GaussianMixture"
   ]
  },
  {
   "cell_type": "markdown",
   "id": "6396687d-d920-4382-9153-7b2de1dff6eb",
   "metadata": {},
   "source": [
    "# Import data"
   ]
  },
  {
   "cell_type": "code",
   "execution_count": 2,
   "id": "4ba7bdeb-fe7b-4fcc-a7e6-a0626a2ddd85",
   "metadata": {},
   "outputs": [],
   "source": [
    "path = \"../data\"\n",
    "df = pd.read_csv(os.path.join(path,\"cleaned_dataset.csv\"),index_col=0)"
   ]
  },
  {
   "cell_type": "code",
   "execution_count": 102,
   "id": "7e41f553-2694-400a-9fc7-0c0d65df3a8e",
   "metadata": {},
   "outputs": [],
   "source": [
    "df = df[df[\"basesalary\"]<=2*df[\"basesalary\"].mean()]"
   ]
  },
  {
   "cell_type": "markdown",
   "id": "2505d4de-5ba6-4e61-8993-cf0018faa055",
   "metadata": {},
   "source": [
    "# Add gaussian noise by columns"
   ]
  },
  {
   "cell_type": "code",
   "execution_count": 105,
   "id": "a464960c-900b-4104-8cf1-6a166b17c0a9",
   "metadata": {},
   "outputs": [],
   "source": [
    "noises_std={}\n",
    "for col in df.columns:\n",
    "    noises_std[col] = df[col].std()    "
   ]
  },
  {
   "cell_type": "code",
   "execution_count": 106,
   "id": "24639ca0-888e-4469-ba1e-b24014dd6bed",
   "metadata": {},
   "outputs": [],
   "source": [
    "df2 = df.copy()"
   ]
  },
  {
   "cell_type": "code",
   "execution_count": 107,
   "id": "4d8c351f-9e69-41c2-890d-89b29b3742ef",
   "metadata": {
    "tags": []
   },
   "outputs": [],
   "source": [
    "for col in df2.columns:\n",
    "    df2[col]=df2[col]+np.random.normal(0,noises_std[col],len(df))"
   ]
  },
  {
   "cell_type": "code",
   "execution_count": 108,
   "id": "bb35cddc-3416-4d65-871b-0b8313c785b5",
   "metadata": {},
   "outputs": [],
   "source": [
    "X = df2.drop(columns=[\"basesalary\"])\n",
    "y = df2[\"basesalary\"]"
   ]
  },
  {
   "cell_type": "code",
   "execution_count": 109,
   "id": "01914ff6-bc18-47ce-a138-23d3f7df6ee1",
   "metadata": {},
   "outputs": [
    {
     "name": "stdout",
     "output_type": "stream",
     "text": [
      "\n",
      "RMSE:  47122.597\n"
     ]
    }
   ],
   "source": [
    "regressor = RandomForestRegressor(n_estimators = 10, random_state = 0, max_depth=10)\n",
    "regressor.fit(X, y) \n",
    "y_pred = regressor.predict(X)\n",
    "rmse = float(format(np.sqrt(mean_squared_error(y, y_pred)), '.3f'))\n",
    "print(\"\\nRMSE: \", rmse)"
   ]
  },
  {
   "cell_type": "code",
   "execution_count": 110,
   "id": "959d4e9a-b631-4e7e-a9da-17fc563e8560",
   "metadata": {},
   "outputs": [
    {
     "name": "stdout",
     "output_type": "stream",
     "text": [
      "\n",
      "RMSE:  28458.664\n"
     ]
    }
   ],
   "source": [
    "y_pred = regressor.predict(df.drop(columns=[\"basesalary\"]))\n",
    "rmse = float(format(np.sqrt(mean_squared_error(df[\"basesalary\"], y_pred)), '.3f'))\n",
    "print(\"\\nRMSE: \", rmse)"
   ]
  },
  {
   "cell_type": "code",
   "execution_count": 111,
   "id": "99b78e09-09a8-4b93-a960-317ca76ba551",
   "metadata": {},
   "outputs": [
    {
     "data": {
      "text/html": [
       "<div>\n",
       "<style scoped>\n",
       "    .dataframe tbody tr th:only-of-type {\n",
       "        vertical-align: middle;\n",
       "    }\n",
       "\n",
       "    .dataframe tbody tr th {\n",
       "        vertical-align: top;\n",
       "    }\n",
       "\n",
       "    .dataframe thead th {\n",
       "        text-align: right;\n",
       "    }\n",
       "</style>\n",
       "<table border=\"1\" class=\"dataframe\">\n",
       "  <thead>\n",
       "    <tr style=\"text-align: right;\">\n",
       "      <th></th>\n",
       "      <th>yearsofexperience</th>\n",
       "      <th>yearsofexperience</th>\n",
       "    </tr>\n",
       "  </thead>\n",
       "  <tbody>\n",
       "    <tr>\n",
       "      <th>yearsofexperience</th>\n",
       "      <td>1.000000</td>\n",
       "      <td>0.708437</td>\n",
       "    </tr>\n",
       "    <tr>\n",
       "      <th>yearsofexperience</th>\n",
       "      <td>0.708437</td>\n",
       "      <td>1.000000</td>\n",
       "    </tr>\n",
       "  </tbody>\n",
       "</table>\n",
       "</div>"
      ],
      "text/plain": [
       "                   yearsofexperience  yearsofexperience\n",
       "yearsofexperience           1.000000           0.708437\n",
       "yearsofexperience           0.708437           1.000000"
      ]
     },
     "execution_count": 111,
     "metadata": {},
     "output_type": "execute_result"
    }
   ],
   "source": [
    "pd.concat([df2[\"yearsofexperience\"],df[\"yearsofexperience\"]],axis=1).corr()"
   ]
  },
  {
   "cell_type": "markdown",
   "id": "4b59958d-3b5c-4113-a4de-dfc64508f14d",
   "metadata": {},
   "source": [
    "# Add gaussian noise by rows"
   ]
  },
  {
   "cell_type": "code",
   "execution_count": null,
   "id": "2a05eede-b0e6-49f4-befa-2d8af27a961b",
   "metadata": {},
   "outputs": [],
   "source": []
  },
  {
   "cell_type": "markdown",
   "id": "b5f34d49-cd2c-46a8-9767-996b81fc5f7e",
   "metadata": {},
   "source": [
    "# Gaussian mixture"
   ]
  },
  {
   "cell_type": "code",
   "execution_count": 113,
   "id": "de7ad2c6-c5d8-48ea-87fd-54463b01a7b9",
   "metadata": {},
   "outputs": [],
   "source": [
    "gm = GaussianMixture(n_components=20, random_state=0,covariance_type='diag').fit(df)"
   ]
  },
  {
   "cell_type": "code",
   "execution_count": 114,
   "id": "85fc51e9-b4bf-466c-91c0-b0ae0fb9f190",
   "metadata": {},
   "outputs": [
    {
     "data": {
      "text/html": [
       "<style>#sk-container-id-5 {color: black;background-color: white;}#sk-container-id-5 pre{padding: 0;}#sk-container-id-5 div.sk-toggleable {background-color: white;}#sk-container-id-5 label.sk-toggleable__label {cursor: pointer;display: block;width: 100%;margin-bottom: 0;padding: 0.3em;box-sizing: border-box;text-align: center;}#sk-container-id-5 label.sk-toggleable__label-arrow:before {content: \"▸\";float: left;margin-right: 0.25em;color: #696969;}#sk-container-id-5 label.sk-toggleable__label-arrow:hover:before {color: black;}#sk-container-id-5 div.sk-estimator:hover label.sk-toggleable__label-arrow:before {color: black;}#sk-container-id-5 div.sk-toggleable__content {max-height: 0;max-width: 0;overflow: hidden;text-align: left;background-color: #f0f8ff;}#sk-container-id-5 div.sk-toggleable__content pre {margin: 0.2em;color: black;border-radius: 0.25em;background-color: #f0f8ff;}#sk-container-id-5 input.sk-toggleable__control:checked~div.sk-toggleable__content {max-height: 200px;max-width: 100%;overflow: auto;}#sk-container-id-5 input.sk-toggleable__control:checked~label.sk-toggleable__label-arrow:before {content: \"▾\";}#sk-container-id-5 div.sk-estimator input.sk-toggleable__control:checked~label.sk-toggleable__label {background-color: #d4ebff;}#sk-container-id-5 div.sk-label input.sk-toggleable__control:checked~label.sk-toggleable__label {background-color: #d4ebff;}#sk-container-id-5 input.sk-hidden--visually {border: 0;clip: rect(1px 1px 1px 1px);clip: rect(1px, 1px, 1px, 1px);height: 1px;margin: -1px;overflow: hidden;padding: 0;position: absolute;width: 1px;}#sk-container-id-5 div.sk-estimator {font-family: monospace;background-color: #f0f8ff;border: 1px dotted black;border-radius: 0.25em;box-sizing: border-box;margin-bottom: 0.5em;}#sk-container-id-5 div.sk-estimator:hover {background-color: #d4ebff;}#sk-container-id-5 div.sk-parallel-item::after {content: \"\";width: 100%;border-bottom: 1px solid gray;flex-grow: 1;}#sk-container-id-5 div.sk-label:hover label.sk-toggleable__label {background-color: #d4ebff;}#sk-container-id-5 div.sk-serial::before {content: \"\";position: absolute;border-left: 1px solid gray;box-sizing: border-box;top: 0;bottom: 0;left: 50%;z-index: 0;}#sk-container-id-5 div.sk-serial {display: flex;flex-direction: column;align-items: center;background-color: white;padding-right: 0.2em;padding-left: 0.2em;position: relative;}#sk-container-id-5 div.sk-item {position: relative;z-index: 1;}#sk-container-id-5 div.sk-parallel {display: flex;align-items: stretch;justify-content: center;background-color: white;position: relative;}#sk-container-id-5 div.sk-item::before, #sk-container-id-5 div.sk-parallel-item::before {content: \"\";position: absolute;border-left: 1px solid gray;box-sizing: border-box;top: 0;bottom: 0;left: 50%;z-index: -1;}#sk-container-id-5 div.sk-parallel-item {display: flex;flex-direction: column;z-index: 1;position: relative;background-color: white;}#sk-container-id-5 div.sk-parallel-item:first-child::after {align-self: flex-end;width: 50%;}#sk-container-id-5 div.sk-parallel-item:last-child::after {align-self: flex-start;width: 50%;}#sk-container-id-5 div.sk-parallel-item:only-child::after {width: 0;}#sk-container-id-5 div.sk-dashed-wrapped {border: 1px dashed gray;margin: 0 0.4em 0.5em 0.4em;box-sizing: border-box;padding-bottom: 0.4em;background-color: white;}#sk-container-id-5 div.sk-label label {font-family: monospace;font-weight: bold;display: inline-block;line-height: 1.2em;}#sk-container-id-5 div.sk-label-container {text-align: center;}#sk-container-id-5 div.sk-container {/* jupyter's `normalize.less` sets `[hidden] { display: none; }` but bootstrap.min.css set `[hidden] { display: none !important; }` so we also need the `!important` here to be able to override the default hidden behavior on the sphinx rendered scikit-learn.org. See: https://github.com/scikit-learn/scikit-learn/issues/21755 */display: inline-block !important;position: relative;}#sk-container-id-5 div.sk-text-repr-fallback {display: none;}</style><div id=\"sk-container-id-5\" class=\"sk-top-container\"><div class=\"sk-text-repr-fallback\"><pre>RandomForestRegressor(max_depth=10, n_estimators=30, random_state=0)</pre><b>In a Jupyter environment, please rerun this cell to show the HTML representation or trust the notebook. <br />On GitHub, the HTML representation is unable to render, please try loading this page with nbviewer.org.</b></div><div class=\"sk-container\" hidden><div class=\"sk-item\"><div class=\"sk-estimator sk-toggleable\"><input class=\"sk-toggleable__control sk-hidden--visually\" id=\"sk-estimator-id-5\" type=\"checkbox\" checked><label for=\"sk-estimator-id-5\" class=\"sk-toggleable__label sk-toggleable__label-arrow\">RandomForestRegressor</label><div class=\"sk-toggleable__content\"><pre>RandomForestRegressor(max_depth=10, n_estimators=30, random_state=0)</pre></div></div></div></div></div>"
      ],
      "text/plain": [
       "RandomForestRegressor(max_depth=10, n_estimators=30, random_state=0)"
      ]
     },
     "execution_count": 114,
     "metadata": {},
     "output_type": "execute_result"
    }
   ],
   "source": [
    "df_sample = gm.sample(50000)[0]\n",
    "y_gaussian = df_sample[:,3]\n",
    "x_gaussian = df_sample[:,[i for i in range(len(df.columns)) if i!=3]]\n",
    "regressor = RandomForestRegressor(n_estimators = 30, random_state = 0, max_depth=10)\n",
    "regressor.fit(x_gaussian, y_gaussian) "
   ]
  },
  {
   "cell_type": "code",
   "execution_count": 115,
   "id": "b4b766da-105f-466a-b343-86fc48fb65e3",
   "metadata": {},
   "outputs": [
    {
     "name": "stdout",
     "output_type": "stream",
     "text": [
      "\n",
      "RMSE:  48668.581\n"
     ]
    }
   ],
   "source": [
    "rmse = float(format(np.sqrt(mean_squared_error(y, y_pred)), '.3f'))\n",
    "print(\"\\nRMSE: \", rmse)"
   ]
  },
  {
   "cell_type": "code",
   "execution_count": 116,
   "id": "86715928-1161-43a2-8369-e80b1e78655b",
   "metadata": {},
   "outputs": [
    {
     "name": "stderr",
     "output_type": "stream",
     "text": [
      "/usr/local/lib/python3.8/dist-packages/sklearn/base.py:443: UserWarning: X has feature names, but RandomForestRegressor was fitted without feature names\n",
      "  warnings.warn(\n"
     ]
    },
    {
     "name": "stdout",
     "output_type": "stream",
     "text": [
      "\n",
      "RMSE:  160890.363\n"
     ]
    }
   ],
   "source": [
    "y_pred = regressor.predict(df.drop(columns=[\"basesalary\"]))\n",
    "rmse = float(format(np.sqrt(mean_squared_error(df[\"basesalary\"], y_pred)), '.3f'))\n",
    "print(\"\\nRMSE: \", rmse)"
   ]
  },
  {
   "cell_type": "code",
   "execution_count": 117,
   "id": "b1356c7c-5bf6-4d1f-954b-b6c18cd85e0e",
   "metadata": {},
   "outputs": [
    {
     "data": {
      "text/plain": [
       "155892.7930736961"
      ]
     },
     "execution_count": 117,
     "metadata": {},
     "output_type": "execute_result"
    }
   ],
   "source": [
    "df[\"basesalary\"].mean()"
   ]
  },
  {
   "cell_type": "code",
   "execution_count": null,
   "id": "898a6db3-9d46-46dd-ae0b-f2bd0b791b9d",
   "metadata": {},
   "outputs": [],
   "source": []
  }
 ],
 "metadata": {
  "kernelspec": {
   "display_name": "Python 3 (ipykernel)",
   "language": "python",
   "name": "python3"
  },
  "language_info": {
   "codemirror_mode": {
    "name": "ipython",
    "version": 3
   },
   "file_extension": ".py",
   "mimetype": "text/x-python",
   "name": "python",
   "nbconvert_exporter": "python",
   "pygments_lexer": "ipython3",
   "version": "3.8.10"
  }
 },
 "nbformat": 4,
 "nbformat_minor": 5
}

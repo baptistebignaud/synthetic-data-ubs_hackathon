{
 "cells": [
  {
   "cell_type": "markdown",
   "id": "bbb949f8-1e71-4ccc-9e82-12d5cdcf7543",
   "metadata": {},
   "source": [
    "# Import librairies"
   ]
  },
  {
   "cell_type": "code",
   "execution_count": 240,
   "id": "9e826dc1-2cfb-49a6-b7de-f8b816f6a72d",
   "metadata": {},
   "outputs": [],
   "source": [
    "import pandas as pd\n",
    "import os\n",
    "import matplotlib.pyplot as plt\n",
    "import statsmodels.api as sm\n",
    "import seaborn as sns\n",
    "import numpy as np\n",
    "import statsmodels.api as sm\n",
    "from sklearn.ensemble import RandomForestRegressor\n",
    "from sklearn.metrics import mean_squared_error\n",
    "from sklearn.mixture import GaussianMixture\n",
    "import tensorflow as tf\n",
    "from sklearn.model_selection import train_test_split\n",
    "\n",
    "\n",
    "from tensorflow.keras.layers import (\n",
    "    Input,\n",
    "    Embedding,\n",
    "    Concatenate,\n",
    "    Flatten,\n",
    "    Dense,\n",
    "    Dropout,\n",
    "    concatenate,\n",
    ")\n",
    "from tensorflow.keras import Model\n",
    "from tensorflow.keras.optimizers import SGD, Adam"
   ]
  },
  {
   "cell_type": "markdown",
   "id": "6396687d-d920-4382-9153-7b2de1dff6eb",
   "metadata": {},
   "source": [
    "# Import data"
   ]
  },
  {
   "cell_type": "code",
   "execution_count": 2,
   "id": "4ba7bdeb-fe7b-4fcc-a7e6-a0626a2ddd85",
   "metadata": {},
   "outputs": [],
   "source": [
    "path = \"../data\"\n",
    "df = pd.read_csv(os.path.join(path,\"cleaned_dataset.csv\"),index_col=0)"
   ]
  },
  {
   "cell_type": "code",
   "execution_count": 102,
   "id": "7e41f553-2694-400a-9fc7-0c0d65df3a8e",
   "metadata": {},
   "outputs": [],
   "source": [
    "df = df[df[\"basesalary\"]<=2*df[\"basesalary\"].mean()]"
   ]
  },
  {
   "cell_type": "markdown",
   "id": "2505d4de-5ba6-4e61-8993-cf0018faa055",
   "metadata": {},
   "source": [
    "# Add gaussian noise by columns"
   ]
  },
  {
   "cell_type": "code",
   "execution_count": 105,
   "id": "a464960c-900b-4104-8cf1-6a166b17c0a9",
   "metadata": {},
   "outputs": [],
   "source": [
    "noises_std={}\n",
    "for col in df.columns:\n",
    "    noises_std[col] = df[col].std()    "
   ]
  },
  {
   "cell_type": "code",
   "execution_count": 106,
   "id": "24639ca0-888e-4469-ba1e-b24014dd6bed",
   "metadata": {},
   "outputs": [],
   "source": [
    "df2 = df.copy()"
   ]
  },
  {
   "cell_type": "code",
   "execution_count": 107,
   "id": "4d8c351f-9e69-41c2-890d-89b29b3742ef",
   "metadata": {
    "tags": []
   },
   "outputs": [],
   "source": [
    "for col in df2.columns:\n",
    "    df2[col]=df2[col]+np.random.normal(0,noises_std[col],len(df))"
   ]
  },
  {
   "cell_type": "code",
   "execution_count": 108,
   "id": "bb35cddc-3416-4d65-871b-0b8313c785b5",
   "metadata": {},
   "outputs": [],
   "source": [
    "X = df2.drop(columns=[\"basesalary\"])\n",
    "y = df2[\"basesalary\"]"
   ]
  },
  {
   "cell_type": "code",
   "execution_count": 109,
   "id": "01914ff6-bc18-47ce-a138-23d3f7df6ee1",
   "metadata": {},
   "outputs": [
    {
     "name": "stdout",
     "output_type": "stream",
     "text": [
      "\n",
      "RMSE:  47122.597\n"
     ]
    }
   ],
   "source": [
    "regressor = RandomForestRegressor(n_estimators = 10, random_state = 0, max_depth=10)\n",
    "regressor.fit(X, y) \n",
    "y_pred = regressor.predict(X)\n",
    "rmse = float(format(np.sqrt(mean_squared_error(y, y_pred)), '.3f'))\n",
    "print(\"\\nRMSE: \", rmse)"
   ]
  },
  {
   "cell_type": "code",
   "execution_count": 110,
   "id": "959d4e9a-b631-4e7e-a9da-17fc563e8560",
   "metadata": {},
   "outputs": [
    {
     "name": "stdout",
     "output_type": "stream",
     "text": [
      "\n",
      "RMSE:  28458.664\n"
     ]
    }
   ],
   "source": [
    "y_pred = regressor.predict(df.drop(columns=[\"basesalary\"]))\n",
    "rmse = float(format(np.sqrt(mean_squared_error(df[\"basesalary\"], y_pred)), '.3f'))\n",
    "print(\"\\nRMSE: \", rmse)"
   ]
  },
  {
   "cell_type": "code",
   "execution_count": 111,
   "id": "99b78e09-09a8-4b93-a960-317ca76ba551",
   "metadata": {},
   "outputs": [
    {
     "data": {
      "text/html": [
       "<div>\n",
       "<style scoped>\n",
       "    .dataframe tbody tr th:only-of-type {\n",
       "        vertical-align: middle;\n",
       "    }\n",
       "\n",
       "    .dataframe tbody tr th {\n",
       "        vertical-align: top;\n",
       "    }\n",
       "\n",
       "    .dataframe thead th {\n",
       "        text-align: right;\n",
       "    }\n",
       "</style>\n",
       "<table border=\"1\" class=\"dataframe\">\n",
       "  <thead>\n",
       "    <tr style=\"text-align: right;\">\n",
       "      <th></th>\n",
       "      <th>yearsofexperience</th>\n",
       "      <th>yearsofexperience</th>\n",
       "    </tr>\n",
       "  </thead>\n",
       "  <tbody>\n",
       "    <tr>\n",
       "      <th>yearsofexperience</th>\n",
       "      <td>1.000000</td>\n",
       "      <td>0.708437</td>\n",
       "    </tr>\n",
       "    <tr>\n",
       "      <th>yearsofexperience</th>\n",
       "      <td>0.708437</td>\n",
       "      <td>1.000000</td>\n",
       "    </tr>\n",
       "  </tbody>\n",
       "</table>\n",
       "</div>"
      ],
      "text/plain": [
       "                   yearsofexperience  yearsofexperience\n",
       "yearsofexperience           1.000000           0.708437\n",
       "yearsofexperience           0.708437           1.000000"
      ]
     },
     "execution_count": 111,
     "metadata": {},
     "output_type": "execute_result"
    }
   ],
   "source": [
    "pd.concat([df2[\"yearsofexperience\"],df[\"yearsofexperience\"]],axis=1).corr()"
   ]
  },
  {
   "cell_type": "markdown",
   "id": "4b59958d-3b5c-4113-a4de-dfc64508f14d",
   "metadata": {},
   "source": [
    "# Add gaussian noise by rows"
   ]
  },
  {
   "cell_type": "code",
   "execution_count": null,
   "id": "2a05eede-b0e6-49f4-befa-2d8af27a961b",
   "metadata": {},
   "outputs": [],
   "source": []
  },
  {
   "cell_type": "markdown",
   "id": "b5f34d49-cd2c-46a8-9767-996b81fc5f7e",
   "metadata": {},
   "source": [
    "# Gaussian mixture"
   ]
  },
  {
   "cell_type": "code",
   "execution_count": 113,
   "id": "de7ad2c6-c5d8-48ea-87fd-54463b01a7b9",
   "metadata": {},
   "outputs": [],
   "source": [
    "gm = GaussianMixture(n_components=20, random_state=0,covariance_type='diag').fit(df)"
   ]
  },
  {
   "cell_type": "code",
   "execution_count": 114,
   "id": "85fc51e9-b4bf-466c-91c0-b0ae0fb9f190",
   "metadata": {},
   "outputs": [
    {
     "data": {
      "text/html": [
       "<style>#sk-container-id-5 {color: black;background-color: white;}#sk-container-id-5 pre{padding: 0;}#sk-container-id-5 div.sk-toggleable {background-color: white;}#sk-container-id-5 label.sk-toggleable__label {cursor: pointer;display: block;width: 100%;margin-bottom: 0;padding: 0.3em;box-sizing: border-box;text-align: center;}#sk-container-id-5 label.sk-toggleable__label-arrow:before {content: \"▸\";float: left;margin-right: 0.25em;color: #696969;}#sk-container-id-5 label.sk-toggleable__label-arrow:hover:before {color: black;}#sk-container-id-5 div.sk-estimator:hover label.sk-toggleable__label-arrow:before {color: black;}#sk-container-id-5 div.sk-toggleable__content {max-height: 0;max-width: 0;overflow: hidden;text-align: left;background-color: #f0f8ff;}#sk-container-id-5 div.sk-toggleable__content pre {margin: 0.2em;color: black;border-radius: 0.25em;background-color: #f0f8ff;}#sk-container-id-5 input.sk-toggleable__control:checked~div.sk-toggleable__content {max-height: 200px;max-width: 100%;overflow: auto;}#sk-container-id-5 input.sk-toggleable__control:checked~label.sk-toggleable__label-arrow:before {content: \"▾\";}#sk-container-id-5 div.sk-estimator input.sk-toggleable__control:checked~label.sk-toggleable__label {background-color: #d4ebff;}#sk-container-id-5 div.sk-label input.sk-toggleable__control:checked~label.sk-toggleable__label {background-color: #d4ebff;}#sk-container-id-5 input.sk-hidden--visually {border: 0;clip: rect(1px 1px 1px 1px);clip: rect(1px, 1px, 1px, 1px);height: 1px;margin: -1px;overflow: hidden;padding: 0;position: absolute;width: 1px;}#sk-container-id-5 div.sk-estimator {font-family: monospace;background-color: #f0f8ff;border: 1px dotted black;border-radius: 0.25em;box-sizing: border-box;margin-bottom: 0.5em;}#sk-container-id-5 div.sk-estimator:hover {background-color: #d4ebff;}#sk-container-id-5 div.sk-parallel-item::after {content: \"\";width: 100%;border-bottom: 1px solid gray;flex-grow: 1;}#sk-container-id-5 div.sk-label:hover label.sk-toggleable__label {background-color: #d4ebff;}#sk-container-id-5 div.sk-serial::before {content: \"\";position: absolute;border-left: 1px solid gray;box-sizing: border-box;top: 0;bottom: 0;left: 50%;z-index: 0;}#sk-container-id-5 div.sk-serial {display: flex;flex-direction: column;align-items: center;background-color: white;padding-right: 0.2em;padding-left: 0.2em;position: relative;}#sk-container-id-5 div.sk-item {position: relative;z-index: 1;}#sk-container-id-5 div.sk-parallel {display: flex;align-items: stretch;justify-content: center;background-color: white;position: relative;}#sk-container-id-5 div.sk-item::before, #sk-container-id-5 div.sk-parallel-item::before {content: \"\";position: absolute;border-left: 1px solid gray;box-sizing: border-box;top: 0;bottom: 0;left: 50%;z-index: -1;}#sk-container-id-5 div.sk-parallel-item {display: flex;flex-direction: column;z-index: 1;position: relative;background-color: white;}#sk-container-id-5 div.sk-parallel-item:first-child::after {align-self: flex-end;width: 50%;}#sk-container-id-5 div.sk-parallel-item:last-child::after {align-self: flex-start;width: 50%;}#sk-container-id-5 div.sk-parallel-item:only-child::after {width: 0;}#sk-container-id-5 div.sk-dashed-wrapped {border: 1px dashed gray;margin: 0 0.4em 0.5em 0.4em;box-sizing: border-box;padding-bottom: 0.4em;background-color: white;}#sk-container-id-5 div.sk-label label {font-family: monospace;font-weight: bold;display: inline-block;line-height: 1.2em;}#sk-container-id-5 div.sk-label-container {text-align: center;}#sk-container-id-5 div.sk-container {/* jupyter's `normalize.less` sets `[hidden] { display: none; }` but bootstrap.min.css set `[hidden] { display: none !important; }` so we also need the `!important` here to be able to override the default hidden behavior on the sphinx rendered scikit-learn.org. See: https://github.com/scikit-learn/scikit-learn/issues/21755 */display: inline-block !important;position: relative;}#sk-container-id-5 div.sk-text-repr-fallback {display: none;}</style><div id=\"sk-container-id-5\" class=\"sk-top-container\"><div class=\"sk-text-repr-fallback\"><pre>RandomForestRegressor(max_depth=10, n_estimators=30, random_state=0)</pre><b>In a Jupyter environment, please rerun this cell to show the HTML representation or trust the notebook. <br />On GitHub, the HTML representation is unable to render, please try loading this page with nbviewer.org.</b></div><div class=\"sk-container\" hidden><div class=\"sk-item\"><div class=\"sk-estimator sk-toggleable\"><input class=\"sk-toggleable__control sk-hidden--visually\" id=\"sk-estimator-id-5\" type=\"checkbox\" checked><label for=\"sk-estimator-id-5\" class=\"sk-toggleable__label sk-toggleable__label-arrow\">RandomForestRegressor</label><div class=\"sk-toggleable__content\"><pre>RandomForestRegressor(max_depth=10, n_estimators=30, random_state=0)</pre></div></div></div></div></div>"
      ],
      "text/plain": [
       "RandomForestRegressor(max_depth=10, n_estimators=30, random_state=0)"
      ]
     },
     "execution_count": 114,
     "metadata": {},
     "output_type": "execute_result"
    }
   ],
   "source": [
    "df_sample = gm.sample(50000)[0]\n",
    "y_gaussian = df_sample[:,3]\n",
    "x_gaussian = df_sample[:,[i for i in range(len(df.columns)) if i!=3]]\n",
    "regressor = RandomForestRegressor(n_estimators = 30, random_state = 0, max_depth=10)\n",
    "regressor.fit(x_gaussian, y_gaussian) "
   ]
  },
  {
   "cell_type": "code",
   "execution_count": 115,
   "id": "b4b766da-105f-466a-b343-86fc48fb65e3",
   "metadata": {},
   "outputs": [
    {
     "name": "stdout",
     "output_type": "stream",
     "text": [
      "\n",
      "RMSE:  48668.581\n"
     ]
    }
   ],
   "source": [
    "rmse = float(format(np.sqrt(mean_squared_error(y, y_pred)), '.3f'))\n",
    "print(\"\\nRMSE: \", rmse)"
   ]
  },
  {
   "cell_type": "code",
   "execution_count": 116,
   "id": "86715928-1161-43a2-8369-e80b1e78655b",
   "metadata": {},
   "outputs": [
    {
     "name": "stderr",
     "output_type": "stream",
     "text": [
      "/usr/local/lib/python3.8/dist-packages/sklearn/base.py:443: UserWarning: X has feature names, but RandomForestRegressor was fitted without feature names\n",
      "  warnings.warn(\n"
     ]
    },
    {
     "name": "stdout",
     "output_type": "stream",
     "text": [
      "\n",
      "RMSE:  160890.363\n"
     ]
    }
   ],
   "source": [
    "y_pred = regressor.predict(df.drop(columns=[\"basesalary\"]))\n",
    "rmse = float(format(np.sqrt(mean_squared_error(df[\"basesalary\"], y_pred)), '.3f'))\n",
    "print(\"\\nRMSE: \", rmse)"
   ]
  },
  {
   "cell_type": "code",
   "execution_count": 117,
   "id": "b1356c7c-5bf6-4d1f-954b-b6c18cd85e0e",
   "metadata": {},
   "outputs": [
    {
     "data": {
      "text/plain": [
       "155892.7930736961"
      ]
     },
     "execution_count": 117,
     "metadata": {},
     "output_type": "execute_result"
    }
   ],
   "source": [
    "df[\"basesalary\"].mean()"
   ]
  },
  {
   "cell_type": "markdown",
   "id": "cceaae6b-5a0a-45c6-9c75-7bf799d2dd0f",
   "metadata": {},
   "source": [
    "# Word embedding and then gaussian mixture"
   ]
  },
  {
   "cell_type": "code",
   "execution_count": 224,
   "id": "1c3cf9b9-aa28-4191-8f78-93730719e325",
   "metadata": {},
   "outputs": [
    {
     "name": "stderr",
     "output_type": "stream",
     "text": [
      "/usr/local/lib/python3.8/dist-packages/IPython/core/interactiveshell.py:3441: DtypeWarning: Columns (13) have mixed types.Specify dtype option on import or set low_memory=False.\n",
      "  exec(code_obj, self.user_global_ns, self.user_ns)\n"
     ]
    }
   ],
   "source": [
    "path = \"../data\"\n",
    "df = pd.read_csv(os.path.join(path,\"data_with_missing.csv\"),index_col=0)\n",
    "features_to_keep = [\"company\",\"level\",\"title\",\"location\",\"yearsofexperience\",\"yearsatcompany\",\"gender\",\"year\",\"tag\",\"tag_truncated\",\"country\"]\n",
    "label =[\"basesalary\"]\n",
    "df = df[features_to_keep+label]\n",
    "df.loc[df[\"level\"].isin(df[\"level\"].value_counts()[df[\"level\"].value_counts()<=50].keys().tolist()),\"level\"]=\"other\"\n",
    "df.loc[df[\"tag\"].isin(df[\"tag\"].value_counts()[df[\"tag\"].value_counts()<=50].keys().tolist()),\"tag\"]=\"other\""
   ]
  },
  {
   "cell_type": "code",
   "execution_count": 225,
   "id": "c646e5b3-dfb8-47da-b1d3-d9859eeb7d48",
   "metadata": {},
   "outputs": [],
   "source": [
    "#for column in [\"tag\",\"tag_truncated\"]:\n",
    "#   df[column]=df[column].apply(lambda x: df[column].mode().tolist()[0] if pd.isnull(x) else x)\n",
    "df[\"year\"]=df[\"year\"].apply(lambda x: x if pd.isnull(x) else x[:4])\n",
    "df = df[df[\"basesalary\"]!=0]\n",
    "df = df[df[\"basesalary\"]<=2*df[\"basesalary\"].mean()]"
   ]
  },
  {
   "cell_type": "code",
   "execution_count": 226,
   "id": "f3915b8a-2532-45ec-8e84-75ad814bdf6f",
   "metadata": {},
   "outputs": [],
   "source": [
    "ohe_features=[\"title\",\"location\",\"gender\",\"year\",\"country\"]\n",
    "textual_features=[\"company\",\"level\",\"tag\",\"tag_truncated\"]\n",
    "numeric_features=[\"yearsofexperience\",\"yearsatcompany\"]\n",
    "label=[\"basesalary\"]\n",
    "df=df[ohe_features+textual_features+numeric_features+label]"
   ]
  },
  {
   "cell_type": "code",
   "execution_count": 227,
   "id": "9d86c338-bf4c-4981-9e50-55b9077bb9a2",
   "metadata": {},
   "outputs": [],
   "source": [
    "for feature in textual_features:\n",
    "    df.loc[pd.isnull(df[feature]),feature]=\"Unavailable\""
   ]
  },
  {
   "cell_type": "code",
   "execution_count": 228,
   "id": "83d789db-e71d-4b7f-8f9a-e316573eea05",
   "metadata": {},
   "outputs": [],
   "source": [
    "vocab = {}\n",
    "\n",
    "# textual_feature =\n",
    "for feature in textual_features:\n",
    "    df[feature]=df[feature]\n",
    "    vocab[feature] = {\n",
    "        k: v for v, k in enumerate(np.unique(df[feature].apply(str)))\n",
    "    }\n",
    "    # print(vocab[feature])\n",
    "    df[feature] = df[feature].apply(lambda x: vocab[feature][x])\n"
   ]
  },
  {
   "cell_type": "code",
   "execution_count": 229,
   "id": "dca7e101-1845-4626-8b5c-3a0c4163575f",
   "metadata": {},
   "outputs": [],
   "source": [
    "df = pd.get_dummies(df, columns=ohe_features)"
   ]
  },
  {
   "cell_type": "code",
   "execution_count": 237,
   "id": "001ec642-c409-4554-8117-fcbeae166d89",
   "metadata": {},
   "outputs": [],
   "source": [
    "L_ohe=df.drop(columns=numeric_features+label+textual_features).columns"
   ]
  },
  {
   "cell_type": "code",
   "execution_count": 195,
   "id": "b34e1e6b-877a-4674-bee0-164271d62bd3",
   "metadata": {},
   "outputs": [],
   "source": [
    "X_train,X_test,y_train,y_test = train_test_split(df.drop(columns=[\"basesalary\"]),df[\"basesalary\"])"
   ]
  },
  {
   "cell_type": "code",
   "execution_count": 201,
   "id": "59ea2d0d-3567-4aaf-b090-22d5c7695278",
   "metadata": {},
   "outputs": [],
   "source": [
    "dict_shape = {}\n",
    "for cf in textual_features:\n",
    "    dict_shape[cf] = len(df[cf].unique())\n"
   ]
  },
  {
   "cell_type": "code",
   "execution_count": 320,
   "id": "cfad5d16-a921-46c3-aa2e-aaef6a3199c0",
   "metadata": {},
   "outputs": [],
   "source": [
    "input_textual_dict = {}\n",
    "input_numeric_dict = {}\n",
    "input_ohe_dict = {}\n",
    "for feature in textual_features:\n",
    "    input_textual_dict[feature] = Input(shape=(1,), name=f\"input_{feature}\")\n",
    "\n",
    "for feature in numeric_features:\n",
    "    input_numeric_dict[feature] = Input(shape=(1,), name=f\"input_{feature}\")\n",
    "\n",
    "for feature in L_ohe:\n",
    "    input_ohe_dict[feature] = Input(shape=(1,), name=f\"input_{feature}\")\n",
    "    \n",
    "inputs = [input_textual_dict,input_numeric_dict,input_ohe_dict]    \n",
    "k_embedding = {feature: 20 for feature in textual_features}\n",
    "\n",
    "embeddings = {}\n",
    "for feature in textual_features:\n",
    "    embeddings[feature] = Flatten(name=f\"Flatten_{feature}\")(\n",
    "        Embedding(\n",
    "            input_dim=dict_shape[feature],\n",
    "            output_dim=k_embedding[feature],\n",
    "            input_length=(1,),\n",
    "            name=f\"Embedding_{feature}\",\n",
    "        )(input_textual_dict[feature])\n",
    "    )\n",
    "    \n",
    "concatted = Concatenate(name=\"concatted\")(\n",
    "                list(embeddings.values())\n",
    "                + [elem for inpt in [input_numeric_dict,input_ohe_dict] for elem in inpt.values()],\n",
    "            )\n",
    "dense_layer0 = Dense(50, name=\"Dense0\")(concatted)\n",
    "dense_layer1 = Dense(20, name=\"Dense1\")(dense_layer0)\n",
    "out = Dense(1, name=\"out\")(dense_layer1)\n",
    "model = Model(inputs=inputs, outputs=out, name=\"embedding_model\")"
   ]
  },
  {
   "cell_type": "code",
   "execution_count": 321,
   "id": "58507002-0011-4d1c-afa0-2f2db11e8a60",
   "metadata": {},
   "outputs": [
    {
     "name": "stdout",
     "output_type": "stream",
     "text": [
      "Epoch 1/30\n",
      "158/158 [==============================] - 3s 11ms/step - loss: 10463051776.0000 - mae: 77946.1094 - val_loss: 761290816.0000 - val_mae: 20299.2012\n",
      "Epoch 2/30\n",
      "158/158 [==============================] - 1s 7ms/step - loss: 658063680.0000 - mae: 18603.8418 - val_loss: 596693312.0000 - val_mae: 17639.9023\n",
      "Epoch 3/30\n",
      "158/158 [==============================] - 1s 7ms/step - loss: 573281536.0000 - mae: 17304.1602 - val_loss: 550790976.0000 - val_mae: 16947.6895\n",
      "Epoch 4/30\n",
      "158/158 [==============================] - 1s 6ms/step - loss: 538085184.0000 - mae: 16701.3926 - val_loss: 522416544.0000 - val_mae: 16415.8203\n",
      "Epoch 5/30\n",
      "158/158 [==============================] - 1s 6ms/step - loss: 516433664.0000 - mae: 16296.3359 - val_loss: 508147360.0000 - val_mae: 16253.5117\n",
      "Epoch 6/30\n",
      "158/158 [==============================] - 1s 6ms/step - loss: 498118112.0000 - mae: 15981.2227 - val_loss: 485448832.0000 - val_mae: 15720.2461\n",
      "Epoch 7/30\n",
      "158/158 [==============================] - 2s 12ms/step - loss: 484559840.0000 - mae: 15681.9736 - val_loss: 475283872.0000 - val_mae: 15608.5234\n",
      "Epoch 8/30\n",
      "158/158 [==============================] - 1s 7ms/step - loss: 472370816.0000 - mae: 15463.9678 - val_loss: 467076192.0000 - val_mae: 15450.5400\n",
      "Epoch 9/30\n",
      "158/158 [==============================] - 2s 11ms/step - loss: 464691328.0000 - mae: 15296.0430 - val_loss: 459158720.0000 - val_mae: 15280.3555\n",
      "Epoch 10/30\n",
      "158/158 [==============================] - 1s 6ms/step - loss: 458891264.0000 - mae: 15228.4902 - val_loss: 450273120.0000 - val_mae: 15036.6631\n",
      "Epoch 11/30\n",
      "158/158 [==============================] - 1s 7ms/step - loss: 453612128.0000 - mae: 15091.0059 - val_loss: 447993600.0000 - val_mae: 15014.5645\n",
      "Epoch 12/30\n",
      "158/158 [==============================] - 1s 6ms/step - loss: 452286560.0000 - mae: 15048.0010 - val_loss: 445386144.0000 - val_mae: 14991.9443\n",
      "Epoch 13/30\n",
      "158/158 [==============================] - 1s 6ms/step - loss: 449622336.0000 - mae: 14998.9902 - val_loss: 442181408.0000 - val_mae: 14894.3154\n",
      "Epoch 14/30\n",
      "158/158 [==============================] - 1s 9ms/step - loss: 449995936.0000 - mae: 14993.6602 - val_loss: 448782304.0000 - val_mae: 14898.8516\n",
      "Epoch 15/30\n",
      "158/158 [==============================] - 1s 8ms/step - loss: 447745792.0000 - mae: 14946.9404 - val_loss: 443435776.0000 - val_mae: 14949.7607\n",
      "Epoch 16/30\n",
      "158/158 [==============================] - 1s 8ms/step - loss: 447098432.0000 - mae: 14959.1211 - val_loss: 442970336.0000 - val_mae: 14917.4268\n",
      "Epoch 17/30\n",
      "158/158 [==============================] - 1s 8ms/step - loss: 446215328.0000 - mae: 14921.1826 - val_loss: 442432928.0000 - val_mae: 14877.6299\n",
      "Epoch 18/30\n",
      "158/158 [==============================] - 1s 8ms/step - loss: 446799968.0000 - mae: 14944.2080 - val_loss: 442936064.0000 - val_mae: 14919.0703\n",
      "Epoch 19/30\n",
      "158/158 [==============================] - 1s 7ms/step - loss: 446171232.0000 - mae: 14953.7021 - val_loss: 448472128.0000 - val_mae: 15016.9424\n",
      "Epoch 20/30\n",
      "158/158 [==============================] - 1s 8ms/step - loss: 447270016.0000 - mae: 14960.8438 - val_loss: 442861344.0000 - val_mae: 14929.0342\n",
      "Epoch 21/30\n",
      "158/158 [==============================] - 1s 6ms/step - loss: 447245184.0000 - mae: 14968.0215 - val_loss: 444693152.0000 - val_mae: 14859.7285\n",
      "Epoch 22/30\n",
      "158/158 [==============================] - 1s 6ms/step - loss: 444536000.0000 - mae: 14887.7705 - val_loss: 439056576.0000 - val_mae: 14902.0449\n",
      "Epoch 23/30\n",
      "158/158 [==============================] - 1s 6ms/step - loss: 445500960.0000 - mae: 14911.9463 - val_loss: 443980000.0000 - val_mae: 14932.4170\n",
      "Epoch 24/30\n",
      "158/158 [==============================] - 1s 6ms/step - loss: 447171744.0000 - mae: 14943.4307 - val_loss: 441713216.0000 - val_mae: 14961.9531\n",
      "Epoch 25/30\n",
      "158/158 [==============================] - 1s 6ms/step - loss: 445324032.0000 - mae: 14918.4346 - val_loss: 443056128.0000 - val_mae: 14967.2402\n",
      "Epoch 26/30\n",
      "158/158 [==============================] - 1s 8ms/step - loss: 445491840.0000 - mae: 14912.9238 - val_loss: 442158560.0000 - val_mae: 14927.6592\n",
      "Epoch 27/30\n",
      "158/158 [==============================] - 1s 6ms/step - loss: 445795328.0000 - mae: 14921.3652 - val_loss: 442758304.0000 - val_mae: 15013.0713\n",
      "Epoch 28/30\n",
      "158/158 [==============================] - 1s 7ms/step - loss: 448890144.0000 - mae: 14997.5791 - val_loss: 442497760.0000 - val_mae: 14962.5391\n",
      "Epoch 29/30\n",
      "158/158 [==============================] - 1s 8ms/step - loss: 445402240.0000 - mae: 14910.3926 - val_loss: 441882016.0000 - val_mae: 14905.0215\n",
      "Epoch 30/30\n",
      "158/158 [==============================] - 1s 7ms/step - loss: 444944512.0000 - mae: 14925.4707 - val_loss: 441584384.0000 - val_mae: 14988.1162\n"
     ]
    }
   ],
   "source": [
    "model.compile(optimizer=Adam(learning_rate=0.01),\n",
    "            loss=\"mse\",\n",
    "            metrics=[\"mae\"],\n",
    "            # run_eagerly=True,\n",
    "        )\n",
    "epochs = 30\n",
    "#model.fit([X_train[textual_features],X_train[numeric_features],X_train[L_ohe]],y_train,epochs=epochs,\n",
    "#   batch_size=256)\n",
    "input_textual_dict_train = {}\n",
    "input_numeric_dict_train = {}\n",
    "input_ohe_dict_train = {}\n",
    "\n",
    "input_textual_dict_test = {}\n",
    "input_numeric_dict_test = {}\n",
    "input_ohe_dict_test = {}\n",
    "\n",
    "for feature in textual_features:\n",
    "    input_textual_dict_train[feature] = np.asarray(\n",
    "        X_train[feature]\n",
    "    ).astype(np.float32)\n",
    "    \n",
    "    input_textual_dict_test[feature] = np.asarray(\n",
    "                        X_test[feature]\n",
    "                    ).astype(np.float32)\n",
    "\n",
    "for feature in L_ohe:\n",
    "    input_ohe_dict_train[feature] = np.asarray(X_train[feature]).astype(\n",
    "        np.int64\n",
    "    )\n",
    "    input_ohe_dict_test[feature] = np.asarray(X_test[feature]).astype(\n",
    "                    np.int64\n",
    "                )\n",
    "for feature in numeric_features:\n",
    "    input_numeric_dict_train[feature] = np.asarray(\n",
    "        X_train[feature]\n",
    "    ).astype(np.float32)\n",
    "    input_numeric_dict_test[feature] = np.asarray(\n",
    "            X_test[feature]\n",
    "        ).astype(np.float32)\n",
    "\n",
    "inputs = [input_textual_dict_train,input_numeric_dict_train,input_ohe_dict_train]\n",
    "history = model.fit(inputs,np.asarray(y_train).astype(np.float32),epochs=epochs,validation_split=0.2,\n",
    "   batch_size=128)\n"
   ]
  },
  {
   "cell_type": "code",
   "execution_count": 322,
   "id": "15c43d3c-e8c3-447d-8df9-f2514be8f23b",
   "metadata": {},
   "outputs": [
    {
     "name": "stdout",
     "output_type": "stream",
     "text": [
      "263/263 [==============================] - 1s 3ms/step - loss: 442831168.0000 - mae: 15017.2314\n"
     ]
    },
    {
     "data": {
      "text/plain": [
       "[442831168.0, 15017.2314453125]"
      ]
     },
     "execution_count": 322,
     "metadata": {},
     "output_type": "execute_result"
    }
   ],
   "source": [
    "model.evaluate([input_textual_dict_test,input_numeric_dict_test,input_ohe_dict_test], np.asarray(y_test).astype(np.float32))"
   ]
  },
  {
   "cell_type": "code",
   "execution_count": 323,
   "id": "6789e195-919c-4123-aa2e-860eb4c1475b",
   "metadata": {},
   "outputs": [
    {
     "name": "stdout",
     "output_type": "stream",
     "text": [
      "263/263 [==============================] - 1s 4ms/step - loss: 442831168.0000 - mae: 15017.2314\n"
     ]
    },
    {
     "data": {
      "text/plain": [
       "21043.554072446983"
      ]
     },
     "execution_count": 323,
     "metadata": {},
     "output_type": "execute_result"
    }
   ],
   "source": [
    "np.sqrt(model.evaluate([input_textual_dict_test,input_numeric_dict_test,input_ohe_dict_test], np.asarray(y_test).astype(np.float32))[0])"
   ]
  },
  {
   "cell_type": "code",
   "execution_count": 324,
   "id": "a753d75e-cfdd-4a13-8cf0-727b946781cc",
   "metadata": {},
   "outputs": [
    {
     "data": {
      "text/plain": [
       "<matplotlib.legend.Legend at 0x7f013dae4ca0>"
      ]
     },
     "execution_count": 324,
     "metadata": {},
     "output_type": "execute_result"
    },
    {
     "data": {
      "image/png": "[encoded data removed]",
      "text/plain": [
       "<Figure size 432x288 with 1 Axes>"
      ]
     },
     "metadata": {},
     "output_type": "display_data"
    }
   ],
   "source": [
    "# Plot the training/val losses during training\n",
    "sns.set_theme()\n",
    "plt.plot(history.history[\"mae\"], label=\"MAE\")\n",
    "plt.ylabel(\"Value of mae\")\n",
    "plt.xlabel(\"Number of epochs\")\n",
    "# ticks = plt.xticks(np.arange(1, epochs+1))\n",
    "plt.plot(history.history[\"val_mae\"], label=\"VAL_MAE\")\n",
    "plt.title(\"MAE and val_mae wrt. number of epochs\")\n",
    "plt.legend()"
   ]
  },
  {
   "cell_type": "code",
   "execution_count": 371,
   "id": "00142d70-06d7-4cee-bfbf-6ef420641fb0",
   "metadata": {},
   "outputs": [],
   "source": [
    "model_feature_representation = Model(\n",
    "    inputs=model.inputs,\n",
    "    outputs=dense_layer0,\n",
    "    name=\"model_feature_representation\",\n",
    ")"
   ]
  },
  {
   "cell_type": "code",
   "execution_count": 372,
   "id": "9159d8d5-4320-40a2-9a31-47240ceb5a3e",
   "metadata": {},
   "outputs": [],
   "source": [
    "X_embedded = model_feature_representation.predict(inputs)"
   ]
  },
  {
   "cell_type": "code",
   "execution_count": 381,
   "id": "03009692-5214-4b47-a4b7-381e09a09b9e",
   "metadata": {},
   "outputs": [
    {
     "data": {
      "text/plain": [
       "array([122000., 175000.,  84000., ..., 150000.,  61000., 133000.])"
      ]
     },
     "execution_count": 381,
     "metadata": {},
     "output_type": "execute_result"
    }
   ],
   "source": [
    "Embedded[:,-1]"
   ]
  },
  {
   "cell_type": "code",
   "execution_count": 373,
   "id": "194a800a-4ddc-44ab-a0e0-bf265b3943aa",
   "metadata": {},
   "outputs": [],
   "source": [
    "Embedded = np.hstack([X_embedded,np.reshape(y_train.to_numpy(),(len(y_train),1))])"
   ]
  },
  {
   "cell_type": "code",
   "execution_count": 374,
   "id": "19c7b95c-dca9-497a-ab81-a60322417eac",
   "metadata": {},
   "outputs": [
    {
     "name": "stderr",
     "output_type": "stream",
     "text": [
      "/usr/local/lib/python3.8/dist-packages/sklearn/mixture/_base.py:286: ConvergenceWarning: Initialization 1 did not converge. Try different init parameters, or increase max_iter, tol or check for degenerate data.\n",
      "  warnings.warn(\n"
     ]
    }
   ],
   "source": [
    "gm = GaussianMixture(n_components=20, random_state=0,covariance_type='diag').fit(Embedded)"
   ]
  },
  {
   "cell_type": "code",
   "execution_count": 375,
   "id": "d74363d2-3e88-4fda-8bb3-ea8e9be18783",
   "metadata": {},
   "outputs": [
    {
     "data": {
      "text/html": [
       "<style>#sk-container-id-7 {color: black;background-color: white;}#sk-container-id-7 pre{padding: 0;}#sk-container-id-7 div.sk-toggleable {background-color: white;}#sk-container-id-7 label.sk-toggleable__label {cursor: pointer;display: block;width: 100%;margin-bottom: 0;padding: 0.3em;box-sizing: border-box;text-align: center;}#sk-container-id-7 label.sk-toggleable__label-arrow:before {content: \"▸\";float: left;margin-right: 0.25em;color: #696969;}#sk-container-id-7 label.sk-toggleable__label-arrow:hover:before {color: black;}#sk-container-id-7 div.sk-estimator:hover label.sk-toggleable__label-arrow:before {color: black;}#sk-container-id-7 div.sk-toggleable__content {max-height: 0;max-width: 0;overflow: hidden;text-align: left;background-color: #f0f8ff;}#sk-container-id-7 div.sk-toggleable__content pre {margin: 0.2em;color: black;border-radius: 0.25em;background-color: #f0f8ff;}#sk-container-id-7 input.sk-toggleable__control:checked~div.sk-toggleable__content {max-height: 200px;max-width: 100%;overflow: auto;}#sk-container-id-7 input.sk-toggleable__control:checked~label.sk-toggleable__label-arrow:before {content: \"▾\";}#sk-container-id-7 div.sk-estimator input.sk-toggleable__control:checked~label.sk-toggleable__label {background-color: #d4ebff;}#sk-container-id-7 div.sk-label input.sk-toggleable__control:checked~label.sk-toggleable__label {background-color: #d4ebff;}#sk-container-id-7 input.sk-hidden--visually {border: 0;clip: rect(1px 1px 1px 1px);clip: rect(1px, 1px, 1px, 1px);height: 1px;margin: -1px;overflow: hidden;padding: 0;position: absolute;width: 1px;}#sk-container-id-7 div.sk-estimator {font-family: monospace;background-color: #f0f8ff;border: 1px dotted black;border-radius: 0.25em;box-sizing: border-box;margin-bottom: 0.5em;}#sk-container-id-7 div.sk-estimator:hover {background-color: #d4ebff;}#sk-container-id-7 div.sk-parallel-item::after {content: \"\";width: 100%;border-bottom: 1px solid gray;flex-grow: 1;}#sk-container-id-7 div.sk-label:hover label.sk-toggleable__label {background-color: #d4ebff;}#sk-container-id-7 div.sk-serial::before {content: \"\";position: absolute;border-left: 1px solid gray;box-sizing: border-box;top: 0;bottom: 0;left: 50%;z-index: 0;}#sk-container-id-7 div.sk-serial {display: flex;flex-direction: column;align-items: center;background-color: white;padding-right: 0.2em;padding-left: 0.2em;position: relative;}#sk-container-id-7 div.sk-item {position: relative;z-index: 1;}#sk-container-id-7 div.sk-parallel {display: flex;align-items: stretch;justify-content: center;background-color: white;position: relative;}#sk-container-id-7 div.sk-item::before, #sk-container-id-7 div.sk-parallel-item::before {content: \"\";position: absolute;border-left: 1px solid gray;box-sizing: border-box;top: 0;bottom: 0;left: 50%;z-index: -1;}#sk-container-id-7 div.sk-parallel-item {display: flex;flex-direction: column;z-index: 1;position: relative;background-color: white;}#sk-container-id-7 div.sk-parallel-item:first-child::after {align-self: flex-end;width: 50%;}#sk-container-id-7 div.sk-parallel-item:last-child::after {align-self: flex-start;width: 50%;}#sk-container-id-7 div.sk-parallel-item:only-child::after {width: 0;}#sk-container-id-7 div.sk-dashed-wrapped {border: 1px dashed gray;margin: 0 0.4em 0.5em 0.4em;box-sizing: border-box;padding-bottom: 0.4em;background-color: white;}#sk-container-id-7 div.sk-label label {font-family: monospace;font-weight: bold;display: inline-block;line-height: 1.2em;}#sk-container-id-7 div.sk-label-container {text-align: center;}#sk-container-id-7 div.sk-container {/* jupyter's `normalize.less` sets `[hidden] { display: none; }` but bootstrap.min.css set `[hidden] { display: none !important; }` so we also need the `!important` here to be able to override the default hidden behavior on the sphinx rendered scikit-learn.org. See: https://github.com/scikit-learn/scikit-learn/issues/21755 */display: inline-block !important;position: relative;}#sk-container-id-7 div.sk-text-repr-fallback {display: none;}</style><div id=\"sk-container-id-7\" class=\"sk-top-container\"><div class=\"sk-text-repr-fallback\"><pre>RandomForestRegressor(max_depth=10, n_estimators=30, random_state=0)</pre><b>In a Jupyter environment, please rerun this cell to show the HTML representation or trust the notebook. <br />On GitHub, the HTML representation is unable to render, please try loading this page with nbviewer.org.</b></div><div class=\"sk-container\" hidden><div class=\"sk-item\"><div class=\"sk-estimator sk-toggleable\"><input class=\"sk-toggleable__control sk-hidden--visually\" id=\"sk-estimator-id-7\" type=\"checkbox\" checked><label for=\"sk-estimator-id-7\" class=\"sk-toggleable__label sk-toggleable__label-arrow\">RandomForestRegressor</label><div class=\"sk-toggleable__content\"><pre>RandomForestRegressor(max_depth=10, n_estimators=30, random_state=0)</pre></div></div></div></div></div>"
      ],
      "text/plain": [
       "RandomForestRegressor(max_depth=10, n_estimators=30, random_state=0)"
      ]
     },
     "execution_count": 375,
     "metadata": {},
     "output_type": "execute_result"
    }
   ],
   "source": [
    "df_sample = gm.sample(50000)[0]\n",
    "y_gaussian = df_sample[:,-1]\n",
    "x_gaussian = df_sample[:,:-1]\n",
    "regressor = RandomForestRegressor(n_estimators = 30, random_state = 0, max_depth=10)\n",
    "regressor.fit(x_gaussian, y_gaussian) "
   ]
  },
  {
   "cell_type": "code",
   "execution_count": 376,
   "id": "0513358b-52d7-453d-baa6-209c653ba73c",
   "metadata": {},
   "outputs": [
    {
     "name": "stdout",
     "output_type": "stream",
     "text": [
      "\n",
      "RMSE:  19131.054\n"
     ]
    }
   ],
   "source": [
    "y_pred = regressor.predict(x_gaussian)\n",
    "rmse = float(format(np.sqrt(mean_squared_error(y_pred, y_gaussian)), '.3f'))\n",
    "print(\"\\nRMSE: \", rmse)"
   ]
  },
  {
   "cell_type": "code",
   "execution_count": 384,
   "id": "c25ab3dc-5b33-4d10-a1b8-3fbe7da8b755",
   "metadata": {},
   "outputs": [
    {
     "name": "stdout",
     "output_type": "stream",
     "text": [
      "\n",
      "RMSE:  20910.304\n"
     ]
    }
   ],
   "source": [
    "y_pred = regressor.predict(Embedded[:,:-1])\n",
    "y_true = Embedded[:,-1]\n",
    "rmse = float(format(np.sqrt(mean_squared_error(y_pred, y_true)), '.3f'))\n",
    "print(\"\\nRMSE: \", rmse)"
   ]
  },
  {
   "cell_type": "code",
   "execution_count": null,
   "id": "667bfcfb-f5f6-4737-bd5b-11c4a2c47eea",
   "metadata": {},
   "outputs": [],
   "source": []
  }
 ],
 "metadata": {
  "kernelspec": {
   "display_name": "Python 3 (ipykernel)",
   "language": "python",
   "name": "python3"
  },
  "language_info": {
   "codemirror_mode": {
    "name": "ipython",
    "version": 3
   },
   "file_extension": ".py",
   "mimetype": "text/x-python",
   "name": "python",
   "nbconvert_exporter": "python",
   "pygments_lexer": "ipython3",
   "version": "3.8.10"
  }
 },
 "nbformat": 4,
 "nbformat_minor": 5
}

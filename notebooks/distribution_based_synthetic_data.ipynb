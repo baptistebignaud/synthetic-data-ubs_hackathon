{
 "cells": [
  {
   "cell_type": "markdown",
   "id": "bbb949f8-1e71-4ccc-9e82-12d5cdcf7543",
   "metadata": {},
   "source": [
    "# Import librairies"
   ]
  },
  {
   "cell_type": "code",
   "execution_count": 240,
   "id": "9e826dc1-2cfb-49a6-b7de-f8b816f6a72d",
   "metadata": {},
   "outputs": [],
   "source": [
    "import pandas as pd\n",
    "import os\n",
    "import matplotlib.pyplot as plt\n",
    "import statsmodels.api as sm\n",
    "import seaborn as sns\n",
    "import numpy as np\n",
    "import statsmodels.api as sm\n",
    "from sklearn.ensemble import RandomForestRegressor\n",
    "from sklearn.metrics import mean_squared_error\n",
    "from sklearn.mixture import GaussianMixture\n",
    "import tensorflow as tf\n",
    "from sklearn.model_selection import train_test_split\n",
    "\n",
    "\n",
    "from tensorflow.keras.layers import (\n",
    "    Input,\n",
    "    Embedding,\n",
    "    Concatenate,\n",
    "    Flatten,\n",
    "    Dense,\n",
    "    Dropout,\n",
    "    concatenate,\n",
    ")\n",
    "from tensorflow.keras import Model\n",
    "from tensorflow.keras.optimizers import SGD, Adam"
   ]
  },
  {
   "cell_type": "markdown",
   "id": "6396687d-d920-4382-9153-7b2de1dff6eb",
   "metadata": {},
   "source": [
    "# Import data"
   ]
  },
  {
   "cell_type": "code",
   "execution_count": 2,
   "id": "4ba7bdeb-fe7b-4fcc-a7e6-a0626a2ddd85",
   "metadata": {},
   "outputs": [],
   "source": [
    "path = \"../data\"\n",
    "df = pd.read_csv(os.path.join(path,\"cleaned_dataset.csv\"),index_col=0)"
   ]
  },
  {
   "cell_type": "code",
   "execution_count": 102,
   "id": "7e41f553-2694-400a-9fc7-0c0d65df3a8e",
   "metadata": {},
   "outputs": [],
   "source": [
    "df = df[df[\"basesalary\"]<=2*df[\"basesalary\"].mean()]"
   ]
  },
  {
   "cell_type": "markdown",
   "id": "2505d4de-5ba6-4e61-8993-cf0018faa055",
   "metadata": {},
   "source": [
    "# Add gaussian noise by columns"
   ]
  },
  {
   "cell_type": "code",
   "execution_count": 105,
   "id": "a464960c-900b-4104-8cf1-6a166b17c0a9",
   "metadata": {},
   "outputs": [],
   "source": [
    "noises_std={}\n",
    "for col in df.columns:\n",
    "    noises_std[col] = df[col].std()    "
   ]
  },
  {
   "cell_type": "code",
   "execution_count": 106,
   "id": "24639ca0-888e-4469-ba1e-b24014dd6bed",
   "metadata": {},
   "outputs": [],
   "source": [
    "df2 = df.copy()"
   ]
  },
  {
   "cell_type": "code",
   "execution_count": 107,
   "id": "4d8c351f-9e69-41c2-890d-89b29b3742ef",
   "metadata": {
    "tags": []
   },
   "outputs": [],
   "source": [
    "for col in df2.columns:\n",
    "    df2[col]=df2[col]+np.random.normal(0,noises_std[col],len(df))"
   ]
  },
  {
   "cell_type": "code",
   "execution_count": 108,
   "id": "bb35cddc-3416-4d65-871b-0b8313c785b5",
   "metadata": {},
   "outputs": [],
   "source": [
    "X = df2.drop(columns=[\"basesalary\"])\n",
    "y = df2[\"basesalary\"]"
   ]
  },
  {
   "cell_type": "code",
   "execution_count": 109,
   "id": "01914ff6-bc18-47ce-a138-23d3f7df6ee1",
   "metadata": {},
   "outputs": [
    {
     "name": "stdout",
     "output_type": "stream",
     "text": [
      "\n",
      "RMSE:  47122.597\n"
     ]
    }
   ],
   "source": [
    "regressor = RandomForestRegressor(n_estimators = 10, random_state = 0, max_depth=10)\n",
    "regressor.fit(X, y) \n",
    "y_pred = regressor.predict(X)\n",
    "rmse = float(format(np.sqrt(mean_squared_error(y, y_pred)), '.3f'))\n",
    "print(\"\\nRMSE: \", rmse)"
   ]
  },
  {
   "cell_type": "code",
   "execution_count": 110,
   "id": "959d4e9a-b631-4e7e-a9da-17fc563e8560",
   "metadata": {},
   "outputs": [
    {
     "name": "stdout",
     "output_type": "stream",
     "text": [
      "\n",
      "RMSE:  28458.664\n"
     ]
    }
   ],
   "source": [
    "y_pred = regressor.predict(df.drop(columns=[\"basesalary\"]))\n",
    "rmse = float(format(np.sqrt(mean_squared_error(df[\"basesalary\"], y_pred)), '.3f'))\n",
    "print(\"\\nRMSE: \", rmse)"
   ]
  },
  {
   "cell_type": "code",
   "execution_count": 111,
   "id": "99b78e09-09a8-4b93-a960-317ca76ba551",
   "metadata": {},
   "outputs": [
    {
     "data": {
      "text/html": [
       "<div>\n",
       "<style scoped>\n",
       "    .dataframe tbody tr th:only-of-type {\n",
       "        vertical-align: middle;\n",
       "    }\n",
       "\n",
       "    .dataframe tbody tr th {\n",
       "        vertical-align: top;\n",
       "    }\n",
       "\n",
       "    .dataframe thead th {\n",
       "        text-align: right;\n",
       "    }\n",
       "</style>\n",
       "<table border=\"1\" class=\"dataframe\">\n",
       "  <thead>\n",
       "    <tr style=\"text-align: right;\">\n",
       "      <th></th>\n",
       "      <th>yearsofexperience</th>\n",
       "      <th>yearsofexperience</th>\n",
       "    </tr>\n",
       "  </thead>\n",
       "  <tbody>\n",
       "    <tr>\n",
       "      <th>yearsofexperience</th>\n",
       "      <td>1.000000</td>\n",
       "      <td>0.708437</td>\n",
       "    </tr>\n",
       "    <tr>\n",
       "      <th>yearsofexperience</th>\n",
       "      <td>0.708437</td>\n",
       "      <td>1.000000</td>\n",
       "    </tr>\n",
       "  </tbody>\n",
       "</table>\n",
       "</div>"
      ],
      "text/plain": [
       "                   yearsofexperience  yearsofexperience\n",
       "yearsofexperience           1.000000           0.708437\n",
       "yearsofexperience           0.708437           1.000000"
      ]
     },
     "execution_count": 111,
     "metadata": {},
     "output_type": "execute_result"
    }
   ],
   "source": [
    "pd.concat([df2[\"yearsofexperience\"],df[\"yearsofexperience\"]],axis=1).corr()"
   ]
  },
  {
   "cell_type": "markdown",
   "id": "4b59958d-3b5c-4113-a4de-dfc64508f14d",
   "metadata": {},
   "source": [
    "# Add gaussian noise by rows"
   ]
  },
  {
   "cell_type": "code",
   "execution_count": null,
   "id": "2a05eede-b0e6-49f4-befa-2d8af27a961b",
   "metadata": {},
   "outputs": [],
   "source": []
  },
  {
   "cell_type": "markdown",
   "id": "b5f34d49-cd2c-46a8-9767-996b81fc5f7e",
   "metadata": {},
   "source": [
    "# Gaussian mixture"
   ]
  },
  {
   "cell_type": "code",
   "execution_count": 113,
   "id": "de7ad2c6-c5d8-48ea-87fd-54463b01a7b9",
   "metadata": {},
   "outputs": [],
   "source": [
    "gm = GaussianMixture(n_components=20, random_state=0,covariance_type='diag').fit(df)"
   ]
  },
  {
   "cell_type": "code",
   "execution_count": 114,
   "id": "85fc51e9-b4bf-466c-91c0-b0ae0fb9f190",
   "metadata": {},
   "outputs": [
    {
     "data": {
      "text/html": [
       "<style>#sk-container-id-5 {color: black;background-color: white;}#sk-container-id-5 pre{padding: 0;}#sk-container-id-5 div.sk-toggleable {background-color: white;}#sk-container-id-5 label.sk-toggleable__label {cursor: pointer;display: block;width: 100%;margin-bottom: 0;padding: 0.3em;box-sizing: border-box;text-align: center;}#sk-container-id-5 label.sk-toggleable__label-arrow:before {content: \"▸\";float: left;margin-right: 0.25em;color: #696969;}#sk-container-id-5 label.sk-toggleable__label-arrow:hover:before {color: black;}#sk-container-id-5 div.sk-estimator:hover label.sk-toggleable__label-arrow:before {color: black;}#sk-container-id-5 div.sk-toggleable__content {max-height: 0;max-width: 0;overflow: hidden;text-align: left;background-color: #f0f8ff;}#sk-container-id-5 div.sk-toggleable__content pre {margin: 0.2em;color: black;border-radius: 0.25em;background-color: #f0f8ff;}#sk-container-id-5 input.sk-toggleable__control:checked~div.sk-toggleable__content {max-height: 200px;max-width: 100%;overflow: auto;}#sk-container-id-5 input.sk-toggleable__control:checked~label.sk-toggleable__label-arrow:before {content: \"▾\";}#sk-container-id-5 div.sk-estimator input.sk-toggleable__control:checked~label.sk-toggleable__label {background-color: #d4ebff;}#sk-container-id-5 div.sk-label input.sk-toggleable__control:checked~label.sk-toggleable__label {background-color: #d4ebff;}#sk-container-id-5 input.sk-hidden--visually {border: 0;clip: rect(1px 1px 1px 1px);clip: rect(1px, 1px, 1px, 1px);height: 1px;margin: -1px;overflow: hidden;padding: 0;position: absolute;width: 1px;}#sk-container-id-5 div.sk-estimator {font-family: monospace;background-color: #f0f8ff;border: 1px dotted black;border-radius: 0.25em;box-sizing: border-box;margin-bottom: 0.5em;}#sk-container-id-5 div.sk-estimator:hover {background-color: #d4ebff;}#sk-container-id-5 div.sk-parallel-item::after {content: \"\";width: 100%;border-bottom: 1px solid gray;flex-grow: 1;}#sk-container-id-5 div.sk-label:hover label.sk-toggleable__label {background-color: #d4ebff;}#sk-container-id-5 div.sk-serial::before {content: \"\";position: absolute;border-left: 1px solid gray;box-sizing: border-box;top: 0;bottom: 0;left: 50%;z-index: 0;}#sk-container-id-5 div.sk-serial {display: flex;flex-direction: column;align-items: center;background-color: white;padding-right: 0.2em;padding-left: 0.2em;position: relative;}#sk-container-id-5 div.sk-item {position: relative;z-index: 1;}#sk-container-id-5 div.sk-parallel {display: flex;align-items: stretch;justify-content: center;background-color: white;position: relative;}#sk-container-id-5 div.sk-item::before, #sk-container-id-5 div.sk-parallel-item::before {content: \"\";position: absolute;border-left: 1px solid gray;box-sizing: border-box;top: 0;bottom: 0;left: 50%;z-index: -1;}#sk-container-id-5 div.sk-parallel-item {display: flex;flex-direction: column;z-index: 1;position: relative;background-color: white;}#sk-container-id-5 div.sk-parallel-item:first-child::after {align-self: flex-end;width: 50%;}#sk-container-id-5 div.sk-parallel-item:last-child::after {align-self: flex-start;width: 50%;}#sk-container-id-5 div.sk-parallel-item:only-child::after {width: 0;}#sk-container-id-5 div.sk-dashed-wrapped {border: 1px dashed gray;margin: 0 0.4em 0.5em 0.4em;box-sizing: border-box;padding-bottom: 0.4em;background-color: white;}#sk-container-id-5 div.sk-label label {font-family: monospace;font-weight: bold;display: inline-block;line-height: 1.2em;}#sk-container-id-5 div.sk-label-container {text-align: center;}#sk-container-id-5 div.sk-container {/* jupyter's `normalize.less` sets `[hidden] { display: none; }` but bootstrap.min.css set `[hidden] { display: none !important; }` so we also need the `!important` here to be able to override the default hidden behavior on the sphinx rendered scikit-learn.org. See: https://github.com/scikit-learn/scikit-learn/issues/21755 */display: inline-block !important;position: relative;}#sk-container-id-5 div.sk-text-repr-fallback {display: none;}</style><div id=\"sk-container-id-5\" class=\"sk-top-container\"><div class=\"sk-text-repr-fallback\"><pre>RandomForestRegressor(max_depth=10, n_estimators=30, random_state=0)</pre><b>In a Jupyter environment, please rerun this cell to show the HTML representation or trust the notebook. <br />On GitHub, the HTML representation is unable to render, please try loading this page with nbviewer.org.</b></div><div class=\"sk-container\" hidden><div class=\"sk-item\"><div class=\"sk-estimator sk-toggleable\"><input class=\"sk-toggleable__control sk-hidden--visually\" id=\"sk-estimator-id-5\" type=\"checkbox\" checked><label for=\"sk-estimator-id-5\" class=\"sk-toggleable__label sk-toggleable__label-arrow\">RandomForestRegressor</label><div class=\"sk-toggleable__content\"><pre>RandomForestRegressor(max_depth=10, n_estimators=30, random_state=0)</pre></div></div></div></div></div>"
      ],
      "text/plain": [
       "RandomForestRegressor(max_depth=10, n_estimators=30, random_state=0)"
      ]
     },
     "execution_count": 114,
     "metadata": {},
     "output_type": "execute_result"
    }
   ],
   "source": [
    "df_sample = gm.sample(50000)[0]\n",
    "y_gaussian = df_sample[:,3]\n",
    "x_gaussian = df_sample[:,[i for i in range(len(df.columns)) if i!=3]]\n",
    "regressor = RandomForestRegressor(n_estimators = 30, random_state = 0, max_depth=10)\n",
    "regressor.fit(x_gaussian, y_gaussian) "
   ]
  },
  {
   "cell_type": "code",
   "execution_count": 115,
   "id": "b4b766da-105f-466a-b343-86fc48fb65e3",
   "metadata": {},
   "outputs": [
    {
     "name": "stdout",
     "output_type": "stream",
     "text": [
      "\n",
      "RMSE:  48668.581\n"
     ]
    }
   ],
   "source": [
    "rmse = float(format(np.sqrt(mean_squared_error(y, y_pred)), '.3f'))\n",
    "print(\"\\nRMSE: \", rmse)"
   ]
  },
  {
   "cell_type": "code",
   "execution_count": 116,
   "id": "86715928-1161-43a2-8369-e80b1e78655b",
   "metadata": {},
   "outputs": [
    {
     "name": "stderr",
     "output_type": "stream",
     "text": [
      "/usr/local/lib/python3.8/dist-packages/sklearn/base.py:443: UserWarning: X has feature names, but RandomForestRegressor was fitted without feature names\n",
      "  warnings.warn(\n"
     ]
    },
    {
     "name": "stdout",
     "output_type": "stream",
     "text": [
      "\n",
      "RMSE:  160890.363\n"
     ]
    }
   ],
   "source": [
    "y_pred = regressor.predict(df.drop(columns=[\"basesalary\"]))\n",
    "rmse = float(format(np.sqrt(mean_squared_error(df[\"basesalary\"], y_pred)), '.3f'))\n",
    "print(\"\\nRMSE: \", rmse)"
   ]
  },
  {
   "cell_type": "code",
   "execution_count": 117,
   "id": "b1356c7c-5bf6-4d1f-954b-b6c18cd85e0e",
   "metadata": {},
   "outputs": [
    {
     "data": {
      "text/plain": [
       "155892.7930736961"
      ]
     },
     "execution_count": 117,
     "metadata": {},
     "output_type": "execute_result"
    }
   ],
   "source": [
    "df[\"basesalary\"].mean()"
   ]
  },
  {
   "cell_type": "markdown",
   "id": "cceaae6b-5a0a-45c6-9c75-7bf799d2dd0f",
   "metadata": {},
   "source": [
    "# Word embedding and then gaussian mixture"
   ]
  },
  {
   "cell_type": "code",
   "execution_count": 224,
   "id": "1c3cf9b9-aa28-4191-8f78-93730719e325",
   "metadata": {},
   "outputs": [
    {
     "name": "stderr",
     "output_type": "stream",
     "text": [
      "/usr/local/lib/python3.8/dist-packages/IPython/core/interactiveshell.py:3441: DtypeWarning: Columns (13) have mixed types.Specify dtype option on import or set low_memory=False.\n",
      "  exec(code_obj, self.user_global_ns, self.user_ns)\n"
     ]
    }
   ],
   "source": [
    "path = \"../data\"\n",
    "df = pd.read_csv(os.path.join(path,\"data_with_missing.csv\"),index_col=0)\n",
    "features_to_keep = [\"company\",\"level\",\"title\",\"location\",\"yearsofexperience\",\"yearsatcompany\",\"gender\",\"year\",\"tag\",\"tag_truncated\",\"country\"]\n",
    "label =[\"basesalary\"]\n",
    "df = df[features_to_keep+label]\n",
    "df.loc[df[\"level\"].isin(df[\"level\"].value_counts()[df[\"level\"].value_counts()<=50].keys().tolist()),\"level\"]=\"other\"\n",
    "df.loc[df[\"tag\"].isin(df[\"tag\"].value_counts()[df[\"tag\"].value_counts()<=50].keys().tolist()),\"tag\"]=\"other\""
   ]
  },
  {
   "cell_type": "code",
   "execution_count": 225,
   "id": "c646e5b3-dfb8-47da-b1d3-d9859eeb7d48",
   "metadata": {},
   "outputs": [],
   "source": [
    "#for column in [\"tag\",\"tag_truncated\"]:\n",
    "#   df[column]=df[column].apply(lambda x: df[column].mode().tolist()[0] if pd.isnull(x) else x)\n",
    "df[\"year\"]=df[\"year\"].apply(lambda x: x if pd.isnull(x) else x[:4])\n",
    "df = df[df[\"basesalary\"]!=0]\n",
    "df = df[df[\"basesalary\"]<=2*df[\"basesalary\"].mean()]"
   ]
  },
  {
   "cell_type": "code",
   "execution_count": 226,
   "id": "f3915b8a-2532-45ec-8e84-75ad814bdf6f",
   "metadata": {},
   "outputs": [],
   "source": [
    "ohe_features=[\"title\",\"location\",\"gender\",\"year\",\"country\"]\n",
    "textual_features=[\"company\",\"level\",\"tag\",\"tag_truncated\"]\n",
    "numeric_features=[\"yearsofexperience\",\"yearsatcompany\"]\n",
    "label=[\"basesalary\"]\n",
    "df=df[ohe_features+textual_features+numeric_features+label]"
   ]
  },
  {
   "cell_type": "code",
   "execution_count": 227,
   "id": "9d86c338-bf4c-4981-9e50-55b9077bb9a2",
   "metadata": {},
   "outputs": [],
   "source": [
    "for feature in textual_features:\n",
    "    df.loc[pd.isnull(df[feature]),feature]=\"Unavailable\""
   ]
  },
  {
   "cell_type": "code",
   "execution_count": 228,
   "id": "83d789db-e71d-4b7f-8f9a-e316573eea05",
   "metadata": {},
   "outputs": [],
   "source": [
    "vocab = {}\n",
    "\n",
    "# textual_feature =\n",
    "for feature in textual_features:\n",
    "    df[feature]=df[feature]\n",
    "    vocab[feature] = {\n",
    "        k: v for v, k in enumerate(np.unique(df[feature].apply(str)))\n",
    "    }\n",
    "    # print(vocab[feature])\n",
    "    df[feature] = df[feature].apply(lambda x: vocab[feature][x])\n"
   ]
  },
  {
   "cell_type": "code",
   "execution_count": 229,
   "id": "dca7e101-1845-4626-8b5c-3a0c4163575f",
   "metadata": {},
   "outputs": [],
   "source": [
    "df = pd.get_dummies(df, columns=ohe_features)"
   ]
  },
  {
   "cell_type": "code",
   "execution_count": 237,
   "id": "001ec642-c409-4554-8117-fcbeae166d89",
   "metadata": {},
   "outputs": [],
   "source": [
    "L_ohe=df.drop(columns=numeric_features+label+textual_features).columns"
   ]
  },
  {
   "cell_type": "code",
   "execution_count": 195,
   "id": "b34e1e6b-877a-4674-bee0-164271d62bd3",
   "metadata": {},
   "outputs": [],
   "source": [
    "X_train,X_test,y_train,y_test = train_test_split(df.drop(columns=[\"basesalary\"]),df[\"basesalary\"])"
   ]
  },
  {
   "cell_type": "code",
   "execution_count": 201,
   "id": "59ea2d0d-3567-4aaf-b090-22d5c7695278",
   "metadata": {},
   "outputs": [],
   "source": [
    "dict_shape = {}\n",
    "for cf in textual_features:\n",
    "    dict_shape[cf] = len(df[cf].unique())\n"
   ]
  },
  {
   "cell_type": "code",
   "execution_count": 276,
   "id": "dc2fd0c3-5f6c-4525-a7b3-8e15976d42c4",
   "metadata": {},
   "outputs": [
    {
     "data": {
      "text/plain": [
       "{'title_Business Analyst': <KerasTensor: shape=(None, 1) dtype=float32 (created by layer 'input_title_Business Analyst')>,\n",
       " 'title_Data Scientist': <KerasTensor: shape=(None, 1) dtype=float32 (created by layer 'input_title_Data Scientist')>,\n",
       " 'title_Hardware Engineer': <KerasTensor: shape=(None, 1) dtype=float32 (created by layer 'input_title_Hardware Engineer')>,\n",
       " 'title_Human Resources': <KerasTensor: shape=(None, 1) dtype=float32 (created by layer 'input_title_Human Resources')>,\n",
       " 'title_Management Consultant': <KerasTensor: shape=(None, 1) dtype=float32 (created by layer 'input_title_Management Consultant')>,\n",
       " 'title_Marketing': <KerasTensor: shape=(None, 1) dtype=float32 (created by layer 'input_title_Marketing')>,\n",
       " 'title_Mechanical Engineer': <KerasTensor: shape=(None, 1) dtype=float32 (created by layer 'input_title_Mechanical Engineer')>,\n",
       " 'title_Product Designer': <KerasTensor: shape=(None, 1) dtype=float32 (created by layer 'input_title_Product Designer')>,\n",
       " 'title_Product Manager': <KerasTensor: shape=(None, 1) dtype=float32 (created by layer 'input_title_Product Manager')>,\n",
       " 'title_Recruiter': <KerasTensor: shape=(None, 1) dtype=float32 (created by layer 'input_title_Recruiter')>,\n",
       " 'title_Sales': <KerasTensor: shape=(None, 1) dtype=float32 (created by layer 'input_title_Sales')>,\n",
       " 'title_Software Engineer': <KerasTensor: shape=(None, 1) dtype=float32 (created by layer 'input_title_Software Engineer')>,\n",
       " 'title_Software Engineering Manager': <KerasTensor: shape=(None, 1) dtype=float32 (created by layer 'input_title_Software Engineering Manager')>,\n",
       " 'title_Solution Architect': <KerasTensor: shape=(None, 1) dtype=float32 (created by layer 'input_title_Solution Architect')>,\n",
       " 'title_Technical Program Manager': <KerasTensor: shape=(None, 1) dtype=float32 (created by layer 'input_title_Technical Program Manager')>,\n",
       " 'location_Atlanta, GA': <KerasTensor: shape=(None, 1) dtype=float32 (created by layer 'input_location_Atlanta, GA')>,\n",
       " 'location_Austin, TX': <KerasTensor: shape=(None, 1) dtype=float32 (created by layer 'input_location_Austin, TX')>,\n",
       " 'location_Bellevue, WA': <KerasTensor: shape=(None, 1) dtype=float32 (created by layer 'input_location_Bellevue, WA')>,\n",
       " 'location_Berlin, BE, Germany': <KerasTensor: shape=(None, 1) dtype=float32 (created by layer 'input_location_Berlin, BE, Germany')>,\n",
       " 'location_Boston, MA': <KerasTensor: shape=(None, 1) dtype=float32 (created by layer 'input_location_Boston, MA')>,\n",
       " 'location_Chicago, IL': <KerasTensor: shape=(None, 1) dtype=float32 (created by layer 'input_location_Chicago, IL')>,\n",
       " 'location_Cupertino, CA': <KerasTensor: shape=(None, 1) dtype=float32 (created by layer 'input_location_Cupertino, CA')>,\n",
       " 'location_Dallas, TX': <KerasTensor: shape=(None, 1) dtype=float32 (created by layer 'input_location_Dallas, TX')>,\n",
       " 'location_Denver, CO': <KerasTensor: shape=(None, 1) dtype=float32 (created by layer 'input_location_Denver, CO')>,\n",
       " 'location_London, EN, United Kingdom': <KerasTensor: shape=(None, 1) dtype=float32 (created by layer 'input_location_London, EN, United Kingdom')>,\n",
       " 'location_Los Angeles, CA': <KerasTensor: shape=(None, 1) dtype=float32 (created by layer 'input_location_Los Angeles, CA')>,\n",
       " 'location_Menlo Park, CA': <KerasTensor: shape=(None, 1) dtype=float32 (created by layer 'input_location_Menlo Park, CA')>,\n",
       " 'location_Mountain View, CA': <KerasTensor: shape=(None, 1) dtype=float32 (created by layer 'input_location_Mountain View, CA')>,\n",
       " 'location_New York, NY': <KerasTensor: shape=(None, 1) dtype=float32 (created by layer 'input_location_New York, NY')>,\n",
       " 'location_Palo Alto, CA': <KerasTensor: shape=(None, 1) dtype=float32 (created by layer 'input_location_Palo Alto, CA')>,\n",
       " 'location_Portland, OR': <KerasTensor: shape=(None, 1) dtype=float32 (created by layer 'input_location_Portland, OR')>,\n",
       " 'location_Redmond, WA': <KerasTensor: shape=(None, 1) dtype=float32 (created by layer 'input_location_Redmond, WA')>,\n",
       " 'location_Redwood City, CA': <KerasTensor: shape=(None, 1) dtype=float32 (created by layer 'input_location_Redwood City, CA')>,\n",
       " 'location_San Diego, CA': <KerasTensor: shape=(None, 1) dtype=float32 (created by layer 'input_location_San Diego, CA')>,\n",
       " 'location_San Francisco, CA': <KerasTensor: shape=(None, 1) dtype=float32 (created by layer 'input_location_San Francisco, CA')>,\n",
       " 'location_San Jose, CA': <KerasTensor: shape=(None, 1) dtype=float32 (created by layer 'input_location_San Jose, CA')>,\n",
       " 'location_Santa Clara, CA': <KerasTensor: shape=(None, 1) dtype=float32 (created by layer 'input_location_Santa Clara, CA')>,\n",
       " 'location_Seattle, WA': <KerasTensor: shape=(None, 1) dtype=float32 (created by layer 'input_location_Seattle, WA')>,\n",
       " 'location_Sunnyvale, CA': <KerasTensor: shape=(None, 1) dtype=float32 (created by layer 'input_location_Sunnyvale, CA')>,\n",
       " 'location_Toronto, ON, Canada': <KerasTensor: shape=(None, 1) dtype=float32 (created by layer 'input_location_Toronto, ON, Canada')>,\n",
       " 'location_Vancouver, BC, Canada': <KerasTensor: shape=(None, 1) dtype=float32 (created by layer 'input_location_Vancouver, BC, Canada')>,\n",
       " 'location_Washington, DC': <KerasTensor: shape=(None, 1) dtype=float32 (created by layer 'input_location_Washington, DC')>,\n",
       " 'gender_Female': <KerasTensor: shape=(None, 1) dtype=float32 (created by layer 'input_gender_Female')>,\n",
       " 'gender_Male': <KerasTensor: shape=(None, 1) dtype=float32 (created by layer 'input_gender_Male')>,\n",
       " 'gender_Other': <KerasTensor: shape=(None, 1) dtype=float32 (created by layer 'input_gender_Other')>,\n",
       " 'gender_Unavailable': <KerasTensor: shape=(None, 1) dtype=float32 (created by layer 'input_gender_Unavailable')>,\n",
       " 'year_2017': <KerasTensor: shape=(None, 1) dtype=float32 (created by layer 'input_year_2017')>,\n",
       " 'year_2018': <KerasTensor: shape=(None, 1) dtype=float32 (created by layer 'input_year_2018')>,\n",
       " 'year_2019': <KerasTensor: shape=(None, 1) dtype=float32 (created by layer 'input_year_2019')>,\n",
       " 'year_2020': <KerasTensor: shape=(None, 1) dtype=float32 (created by layer 'input_year_2020')>,\n",
       " 'year_2021': <KerasTensor: shape=(None, 1) dtype=float32 (created by layer 'input_year_2021')>,\n",
       " 'country_Canada': <KerasTensor: shape=(None, 1) dtype=float32 (created by layer 'input_country_Canada')>,\n",
       " 'country_Germany': <KerasTensor: shape=(None, 1) dtype=float32 (created by layer 'input_country_Germany')>,\n",
       " 'country_US': <KerasTensor: shape=(None, 1) dtype=float32 (created by layer 'input_country_US')>,\n",
       " 'country_United Kingdom': <KerasTensor: shape=(None, 1) dtype=float32 (created by layer 'input_country_United Kingdom')>}"
      ]
     },
     "execution_count": 276,
     "metadata": {},
     "output_type": "execute_result"
    }
   ],
   "source": [
    "input_ohe_dict"
   ]
  },
  {
   "cell_type": "code",
   "execution_count": 287,
   "id": "cfad5d16-a921-46c3-aa2e-aaef6a3199c0",
   "metadata": {},
   "outputs": [],
   "source": [
    "input_textual_dict = {}\n",
    "input_numeric_dict = {}\n",
    "input_ohe_dict = {}\n",
    "for feature in textual_features:\n",
    "    input_textual_dict[feature] = Input(shape=(1,), name=f\"input_{feature}\")\n",
    "\n",
    "for feature in numeric_features:\n",
    "    input_numeric_dict[feature] = Input(shape=(1,), name=f\"input_{feature}\")\n",
    "\n",
    "for feature in L_ohe:\n",
    "    input_ohe_dict[feature] = Input(shape=(1,), name=f\"input_{feature}\")\n",
    "    \n",
    "inputs = [input_textual_dict,input_numeric_dict,input_ohe_dict]    \n",
    "k_embedding = {feature: 20 for feature in textual_features}\n",
    "\n",
    "embeddings = {}\n",
    "for feature in textual_features:\n",
    "    embeddings[feature] = Flatten(name=f\"Flatten_{feature}\")(\n",
    "        Embedding(\n",
    "            input_dim=dict_shape[feature],\n",
    "            output_dim=k_embedding[feature],\n",
    "            input_length=(1,),\n",
    "            name=f\"Embedding_{feature}\",\n",
    "        )(input_textual_dict[feature])\n",
    "    )\n",
    "    \n",
    "concatted = Concatenate(name=\"concatted\")(\n",
    "                list(embeddings.values())\n",
    "                + [elem for inpt in [input_numeric_dict,input_ohe_dict] for elem in inpt.values()],\n",
    "            )\n",
    "dense_layer0 = Dense(50, name=\"Dense0\")(concatted)\n",
    "dense_layer1 = Dense(20, name=\"Dense1\")(dense_layer0)\n",
    "out = Dense(1, name=\"out\")(dense_layer1)\n",
    "model = Model(inputs=inputs, outputs=out, name=\"embedding_model\")"
   ]
  },
  {
   "cell_type": "code",
   "execution_count": 299,
   "id": "58507002-0011-4d1c-afa0-2f2db11e8a60",
   "metadata": {},
   "outputs": [
    {
     "name": "stderr",
     "output_type": "stream",
     "text": [
      "/tmp/ipykernel_1055/1669419674.py:10: VisibleDeprecationWarning: Creating an ndarray from ragged nested sequences (which is a list-or-tuple of lists-or-tuples-or ndarrays with different lengths or shapes) is deprecated. If you meant to do this, you must specify 'dtype=object' when creating the ndarray\n",
      "  model.fit(np.array([[df[textual_features].iloc[i],df[numeric_features].iloc[i],df[L_ohe].iloc[i] ]for i in range(10)]),y_train.iloc[:10],epochs=epochs,\n"
     ]
    },
    {
     "ename": "ValueError",
     "evalue": "Failed to convert a NumPy array to a Tensor (Unsupported object type Series).",
     "output_type": "error",
     "traceback": [
      "\u001b[0;31m---------------------------------------------------------------------------\u001b[0m",
      "\u001b[0;31mValueError\u001b[0m                                Traceback (most recent call last)",
      "\u001b[0;32m/tmp/ipykernel_1055/1669419674.py\u001b[0m in \u001b[0;36m<module>\u001b[0;34m\u001b[0m\n\u001b[1;32m      8\u001b[0m \u001b[0;31m#   batch_size=256)\u001b[0m\u001b[0;34m\u001b[0m\u001b[0;34m\u001b[0m\u001b[0;34m\u001b[0m\u001b[0m\n\u001b[1;32m      9\u001b[0m \u001b[0;34m\u001b[0m\u001b[0m\n\u001b[0;32m---> 10\u001b[0;31m model.fit(np.array([[df[textual_features].iloc[i],df[numeric_features].iloc[i],df[L_ohe].iloc[i] ]for i in range(10)]),y_train.iloc[:10],epochs=epochs,\n\u001b[0m\u001b[1;32m     11\u001b[0m    batch_size=256)\n",
      "\u001b[0;32m/usr/local/lib/python3.8/dist-packages/tensorflow/python/keras/engine/training.py\u001b[0m in \u001b[0;36mfit\u001b[0;34m(self, x, y, batch_size, epochs, verbose, callbacks, validation_split, validation_data, shuffle, class_weight, sample_weight, initial_epoch, steps_per_epoch, validation_steps, validation_batch_size, validation_freq, max_queue_size, workers, use_multiprocessing)\u001b[0m\n\u001b[1;32m   1131\u001b[0m          \u001b[0mtraining_utils\u001b[0m\u001b[0;34m.\u001b[0m\u001b[0mRespectCompiledTrainableState\u001b[0m\u001b[0;34m(\u001b[0m\u001b[0mself\u001b[0m\u001b[0;34m)\u001b[0m\u001b[0;34m:\u001b[0m\u001b[0;34m\u001b[0m\u001b[0;34m\u001b[0m\u001b[0m\n\u001b[1;32m   1132\u001b[0m       \u001b[0;31m# Creates a `tf.data.Dataset` and handles batch and epoch iteration.\u001b[0m\u001b[0;34m\u001b[0m\u001b[0;34m\u001b[0m\u001b[0;34m\u001b[0m\u001b[0m\n\u001b[0;32m-> 1133\u001b[0;31m       data_handler = data_adapter.get_data_handler(\n\u001b[0m\u001b[1;32m   1134\u001b[0m           \u001b[0mx\u001b[0m\u001b[0;34m=\u001b[0m\u001b[0mx\u001b[0m\u001b[0;34m,\u001b[0m\u001b[0;34m\u001b[0m\u001b[0;34m\u001b[0m\u001b[0m\n\u001b[1;32m   1135\u001b[0m           \u001b[0my\u001b[0m\u001b[0;34m=\u001b[0m\u001b[0my\u001b[0m\u001b[0;34m,\u001b[0m\u001b[0;34m\u001b[0m\u001b[0;34m\u001b[0m\u001b[0m\n",
      "\u001b[0;32m/usr/local/lib/python3.8/dist-packages/tensorflow/python/keras/engine/data_adapter.py\u001b[0m in \u001b[0;36mget_data_handler\u001b[0;34m(*args, **kwargs)\u001b[0m\n\u001b[1;32m   1362\u001b[0m   \u001b[0;32mif\u001b[0m \u001b[0mgetattr\u001b[0m\u001b[0;34m(\u001b[0m\u001b[0mkwargs\u001b[0m\u001b[0;34m[\u001b[0m\u001b[0;34m\"model\"\u001b[0m\u001b[0;34m]\u001b[0m\u001b[0;34m,\u001b[0m \u001b[0;34m\"_cluster_coordinator\"\u001b[0m\u001b[0;34m,\u001b[0m \u001b[0;32mNone\u001b[0m\u001b[0;34m)\u001b[0m\u001b[0;34m:\u001b[0m\u001b[0;34m\u001b[0m\u001b[0;34m\u001b[0m\u001b[0m\n\u001b[1;32m   1363\u001b[0m     \u001b[0;32mreturn\u001b[0m \u001b[0m_ClusterCoordinatorDataHandler\u001b[0m\u001b[0;34m(\u001b[0m\u001b[0;34m*\u001b[0m\u001b[0margs\u001b[0m\u001b[0;34m,\u001b[0m \u001b[0;34m**\u001b[0m\u001b[0mkwargs\u001b[0m\u001b[0;34m)\u001b[0m\u001b[0;34m\u001b[0m\u001b[0;34m\u001b[0m\u001b[0m\n\u001b[0;32m-> 1364\u001b[0;31m   \u001b[0;32mreturn\u001b[0m \u001b[0mDataHandler\u001b[0m\u001b[0;34m(\u001b[0m\u001b[0;34m*\u001b[0m\u001b[0margs\u001b[0m\u001b[0;34m,\u001b[0m \u001b[0;34m**\u001b[0m\u001b[0mkwargs\u001b[0m\u001b[0;34m)\u001b[0m\u001b[0;34m\u001b[0m\u001b[0;34m\u001b[0m\u001b[0m\n\u001b[0m\u001b[1;32m   1365\u001b[0m \u001b[0;34m\u001b[0m\u001b[0m\n\u001b[1;32m   1366\u001b[0m \u001b[0;34m\u001b[0m\u001b[0m\n",
      "\u001b[0;32m/usr/local/lib/python3.8/dist-packages/tensorflow/python/keras/engine/data_adapter.py\u001b[0m in \u001b[0;36m__init__\u001b[0;34m(self, x, y, sample_weight, batch_size, steps_per_epoch, initial_epoch, epochs, shuffle, class_weight, max_queue_size, workers, use_multiprocessing, model, steps_per_execution, distribute)\u001b[0m\n\u001b[1;32m   1152\u001b[0m     \u001b[0madapter_cls\u001b[0m \u001b[0;34m=\u001b[0m \u001b[0mselect_data_adapter\u001b[0m\u001b[0;34m(\u001b[0m\u001b[0mx\u001b[0m\u001b[0;34m,\u001b[0m \u001b[0my\u001b[0m\u001b[0;34m)\u001b[0m\u001b[0;34m\u001b[0m\u001b[0;34m\u001b[0m\u001b[0m\n\u001b[1;32m   1153\u001b[0m     \u001b[0mself\u001b[0m\u001b[0;34m.\u001b[0m\u001b[0m_verify_data_adapter_compatibility\u001b[0m\u001b[0;34m(\u001b[0m\u001b[0madapter_cls\u001b[0m\u001b[0;34m)\u001b[0m\u001b[0;34m\u001b[0m\u001b[0;34m\u001b[0m\u001b[0m\n\u001b[0;32m-> 1154\u001b[0;31m     self._adapter = adapter_cls(\n\u001b[0m\u001b[1;32m   1155\u001b[0m         \u001b[0mx\u001b[0m\u001b[0;34m,\u001b[0m\u001b[0;34m\u001b[0m\u001b[0;34m\u001b[0m\u001b[0m\n\u001b[1;32m   1156\u001b[0m         \u001b[0my\u001b[0m\u001b[0;34m,\u001b[0m\u001b[0;34m\u001b[0m\u001b[0;34m\u001b[0m\u001b[0m\n",
      "\u001b[0;32m/usr/local/lib/python3.8/dist-packages/tensorflow/python/keras/engine/data_adapter.py\u001b[0m in \u001b[0;36m__init__\u001b[0;34m(self, x, y, sample_weights, sample_weight_modes, batch_size, epochs, steps, shuffle, **kwargs)\u001b[0m\n\u001b[1;32m    245\u001b[0m                **kwargs):\n\u001b[1;32m    246\u001b[0m     \u001b[0msuper\u001b[0m\u001b[0;34m(\u001b[0m\u001b[0mTensorLikeDataAdapter\u001b[0m\u001b[0;34m,\u001b[0m \u001b[0mself\u001b[0m\u001b[0;34m)\u001b[0m\u001b[0;34m.\u001b[0m\u001b[0m__init__\u001b[0m\u001b[0;34m(\u001b[0m\u001b[0mx\u001b[0m\u001b[0;34m,\u001b[0m \u001b[0my\u001b[0m\u001b[0;34m,\u001b[0m \u001b[0;34m**\u001b[0m\u001b[0mkwargs\u001b[0m\u001b[0;34m)\u001b[0m\u001b[0;34m\u001b[0m\u001b[0;34m\u001b[0m\u001b[0m\n\u001b[0;32m--> 247\u001b[0;31m     \u001b[0mx\u001b[0m\u001b[0;34m,\u001b[0m \u001b[0my\u001b[0m\u001b[0;34m,\u001b[0m \u001b[0msample_weights\u001b[0m \u001b[0;34m=\u001b[0m \u001b[0m_process_tensorlike\u001b[0m\u001b[0;34m(\u001b[0m\u001b[0;34m(\u001b[0m\u001b[0mx\u001b[0m\u001b[0;34m,\u001b[0m \u001b[0my\u001b[0m\u001b[0;34m,\u001b[0m \u001b[0msample_weights\u001b[0m\u001b[0;34m)\u001b[0m\u001b[0;34m)\u001b[0m\u001b[0;34m\u001b[0m\u001b[0;34m\u001b[0m\u001b[0m\n\u001b[0m\u001b[1;32m    248\u001b[0m     sample_weight_modes = broadcast_sample_weight_modes(\n\u001b[1;32m    249\u001b[0m         sample_weights, sample_weight_modes)\n",
      "\u001b[0;32m/usr/local/lib/python3.8/dist-packages/tensorflow/python/keras/engine/data_adapter.py\u001b[0m in \u001b[0;36m_process_tensorlike\u001b[0;34m(inputs)\u001b[0m\n\u001b[1;32m   1044\u001b[0m     \u001b[0;32mreturn\u001b[0m \u001b[0mx\u001b[0m\u001b[0;34m\u001b[0m\u001b[0;34m\u001b[0m\u001b[0m\n\u001b[1;32m   1045\u001b[0m \u001b[0;34m\u001b[0m\u001b[0m\n\u001b[0;32m-> 1046\u001b[0;31m   \u001b[0minputs\u001b[0m \u001b[0;34m=\u001b[0m \u001b[0mnest\u001b[0m\u001b[0;34m.\u001b[0m\u001b[0mmap_structure\u001b[0m\u001b[0;34m(\u001b[0m\u001b[0m_convert_numpy_and_scipy\u001b[0m\u001b[0;34m,\u001b[0m \u001b[0minputs\u001b[0m\u001b[0;34m)\u001b[0m\u001b[0;34m\u001b[0m\u001b[0;34m\u001b[0m\u001b[0m\n\u001b[0m\u001b[1;32m   1047\u001b[0m   \u001b[0;32mreturn\u001b[0m \u001b[0mnest\u001b[0m\u001b[0;34m.\u001b[0m\u001b[0mlist_to_tuple\u001b[0m\u001b[0;34m(\u001b[0m\u001b[0minputs\u001b[0m\u001b[0;34m)\u001b[0m\u001b[0;34m\u001b[0m\u001b[0;34m\u001b[0m\u001b[0m\n\u001b[1;32m   1048\u001b[0m \u001b[0;34m\u001b[0m\u001b[0m\n",
      "\u001b[0;32m/usr/local/lib/python3.8/dist-packages/tensorflow/python/util/nest.py\u001b[0m in \u001b[0;36mmap_structure\u001b[0;34m(func, *structure, **kwargs)\u001b[0m\n\u001b[1;32m    865\u001b[0m \u001b[0;34m\u001b[0m\u001b[0m\n\u001b[1;32m    866\u001b[0m   return pack_sequence_as(\n\u001b[0;32m--> 867\u001b[0;31m       \u001b[0mstructure\u001b[0m\u001b[0;34m[\u001b[0m\u001b[0;36m0\u001b[0m\u001b[0;34m]\u001b[0m\u001b[0;34m,\u001b[0m \u001b[0;34m[\u001b[0m\u001b[0mfunc\u001b[0m\u001b[0;34m(\u001b[0m\u001b[0;34m*\u001b[0m\u001b[0mx\u001b[0m\u001b[0;34m)\u001b[0m \u001b[0;32mfor\u001b[0m \u001b[0mx\u001b[0m \u001b[0;32min\u001b[0m \u001b[0mentries\u001b[0m\u001b[0;34m]\u001b[0m\u001b[0;34m,\u001b[0m\u001b[0;34m\u001b[0m\u001b[0;34m\u001b[0m\u001b[0m\n\u001b[0m\u001b[1;32m    868\u001b[0m       expand_composites=expand_composites)\n\u001b[1;32m    869\u001b[0m \u001b[0;34m\u001b[0m\u001b[0m\n",
      "\u001b[0;32m/usr/local/lib/python3.8/dist-packages/tensorflow/python/util/nest.py\u001b[0m in \u001b[0;36m<listcomp>\u001b[0;34m(.0)\u001b[0m\n\u001b[1;32m    865\u001b[0m \u001b[0;34m\u001b[0m\u001b[0m\n\u001b[1;32m    866\u001b[0m   return pack_sequence_as(\n\u001b[0;32m--> 867\u001b[0;31m       \u001b[0mstructure\u001b[0m\u001b[0;34m[\u001b[0m\u001b[0;36m0\u001b[0m\u001b[0;34m]\u001b[0m\u001b[0;34m,\u001b[0m \u001b[0;34m[\u001b[0m\u001b[0mfunc\u001b[0m\u001b[0;34m(\u001b[0m\u001b[0;34m*\u001b[0m\u001b[0mx\u001b[0m\u001b[0;34m)\u001b[0m \u001b[0;32mfor\u001b[0m \u001b[0mx\u001b[0m \u001b[0;32min\u001b[0m \u001b[0mentries\u001b[0m\u001b[0;34m]\u001b[0m\u001b[0;34m,\u001b[0m\u001b[0;34m\u001b[0m\u001b[0;34m\u001b[0m\u001b[0m\n\u001b[0m\u001b[1;32m    868\u001b[0m       expand_composites=expand_composites)\n\u001b[1;32m    869\u001b[0m \u001b[0;34m\u001b[0m\u001b[0m\n",
      "\u001b[0;32m/usr/local/lib/python3.8/dist-packages/tensorflow/python/keras/engine/data_adapter.py\u001b[0m in \u001b[0;36m_convert_numpy_and_scipy\u001b[0;34m(x)\u001b[0m\n\u001b[1;32m   1039\u001b[0m       \u001b[0;32mif\u001b[0m \u001b[0missubclass\u001b[0m\u001b[0;34m(\u001b[0m\u001b[0mx\u001b[0m\u001b[0;34m.\u001b[0m\u001b[0mdtype\u001b[0m\u001b[0;34m.\u001b[0m\u001b[0mtype\u001b[0m\u001b[0;34m,\u001b[0m \u001b[0mnp\u001b[0m\u001b[0;34m.\u001b[0m\u001b[0mfloating\u001b[0m\u001b[0;34m)\u001b[0m\u001b[0;34m:\u001b[0m\u001b[0;34m\u001b[0m\u001b[0;34m\u001b[0m\u001b[0m\n\u001b[1;32m   1040\u001b[0m         \u001b[0mdtype\u001b[0m \u001b[0;34m=\u001b[0m \u001b[0mbackend\u001b[0m\u001b[0;34m.\u001b[0m\u001b[0mfloatx\u001b[0m\u001b[0;34m(\u001b[0m\u001b[0;34m)\u001b[0m\u001b[0;34m\u001b[0m\u001b[0;34m\u001b[0m\u001b[0m\n\u001b[0;32m-> 1041\u001b[0;31m       \u001b[0;32mreturn\u001b[0m \u001b[0mops\u001b[0m\u001b[0;34m.\u001b[0m\u001b[0mconvert_to_tensor_v2_with_dispatch\u001b[0m\u001b[0;34m(\u001b[0m\u001b[0mx\u001b[0m\u001b[0;34m,\u001b[0m \u001b[0mdtype\u001b[0m\u001b[0;34m=\u001b[0m\u001b[0mdtype\u001b[0m\u001b[0;34m)\u001b[0m\u001b[0;34m\u001b[0m\u001b[0;34m\u001b[0m\u001b[0m\n\u001b[0m\u001b[1;32m   1042\u001b[0m     \u001b[0;32melif\u001b[0m \u001b[0m_is_scipy_sparse\u001b[0m\u001b[0;34m(\u001b[0m\u001b[0mx\u001b[0m\u001b[0;34m)\u001b[0m\u001b[0;34m:\u001b[0m\u001b[0;34m\u001b[0m\u001b[0;34m\u001b[0m\u001b[0m\n\u001b[1;32m   1043\u001b[0m       \u001b[0;32mreturn\u001b[0m \u001b[0m_scipy_sparse_to_sparse_tensor\u001b[0m\u001b[0;34m(\u001b[0m\u001b[0mx\u001b[0m\u001b[0;34m)\u001b[0m\u001b[0;34m\u001b[0m\u001b[0;34m\u001b[0m\u001b[0m\n",
      "\u001b[0;32m/usr/local/lib/python3.8/dist-packages/tensorflow/python/util/dispatch.py\u001b[0m in \u001b[0;36mwrapper\u001b[0;34m(*args, **kwargs)\u001b[0m\n\u001b[1;32m    204\u001b[0m     \u001b[0;34m\"\"\"Call target, and fall back on dispatchers if there is a TypeError.\"\"\"\u001b[0m\u001b[0;34m\u001b[0m\u001b[0;34m\u001b[0m\u001b[0m\n\u001b[1;32m    205\u001b[0m     \u001b[0;32mtry\u001b[0m\u001b[0;34m:\u001b[0m\u001b[0;34m\u001b[0m\u001b[0;34m\u001b[0m\u001b[0m\n\u001b[0;32m--> 206\u001b[0;31m       \u001b[0;32mreturn\u001b[0m \u001b[0mtarget\u001b[0m\u001b[0;34m(\u001b[0m\u001b[0;34m*\u001b[0m\u001b[0margs\u001b[0m\u001b[0;34m,\u001b[0m \u001b[0;34m**\u001b[0m\u001b[0mkwargs\u001b[0m\u001b[0;34m)\u001b[0m\u001b[0;34m\u001b[0m\u001b[0;34m\u001b[0m\u001b[0m\n\u001b[0m\u001b[1;32m    207\u001b[0m     \u001b[0;32mexcept\u001b[0m \u001b[0;34m(\u001b[0m\u001b[0mTypeError\u001b[0m\u001b[0;34m,\u001b[0m \u001b[0mValueError\u001b[0m\u001b[0;34m)\u001b[0m\u001b[0;34m:\u001b[0m\u001b[0;34m\u001b[0m\u001b[0;34m\u001b[0m\u001b[0m\n\u001b[1;32m    208\u001b[0m       \u001b[0;31m# Note: convert_to_eager_tensor currently raises a ValueError, not a\u001b[0m\u001b[0;34m\u001b[0m\u001b[0;34m\u001b[0m\u001b[0;34m\u001b[0m\u001b[0m\n",
      "\u001b[0;32m/usr/local/lib/python3.8/dist-packages/tensorflow/python/framework/ops.py\u001b[0m in \u001b[0;36mconvert_to_tensor_v2_with_dispatch\u001b[0;34m(value, dtype, dtype_hint, name)\u001b[0m\n\u001b[1;32m   1428\u001b[0m     \u001b[0mValueError\u001b[0m\u001b[0;34m:\u001b[0m \u001b[0mIf\u001b[0m \u001b[0mthe\u001b[0m\u001b[0;31m \u001b[0m\u001b[0;31m`\u001b[0m\u001b[0mvalue\u001b[0m\u001b[0;31m`\u001b[0m \u001b[0;32mis\u001b[0m \u001b[0ma\u001b[0m \u001b[0mtensor\u001b[0m \u001b[0;32mnot\u001b[0m \u001b[0mof\u001b[0m \u001b[0mgiven\u001b[0m\u001b[0;31m \u001b[0m\u001b[0;31m`\u001b[0m\u001b[0mdtype\u001b[0m\u001b[0;31m`\u001b[0m \u001b[0;32min\u001b[0m \u001b[0mgraph\u001b[0m \u001b[0mmode\u001b[0m\u001b[0;34m.\u001b[0m\u001b[0;34m\u001b[0m\u001b[0;34m\u001b[0m\u001b[0m\n\u001b[1;32m   1429\u001b[0m   \"\"\"\n\u001b[0;32m-> 1430\u001b[0;31m   return convert_to_tensor_v2(\n\u001b[0m\u001b[1;32m   1431\u001b[0m       value, dtype=dtype, dtype_hint=dtype_hint, name=name)\n\u001b[1;32m   1432\u001b[0m \u001b[0;34m\u001b[0m\u001b[0m\n",
      "\u001b[0;32m/usr/local/lib/python3.8/dist-packages/tensorflow/python/framework/ops.py\u001b[0m in \u001b[0;36mconvert_to_tensor_v2\u001b[0;34m(value, dtype, dtype_hint, name)\u001b[0m\n\u001b[1;32m   1434\u001b[0m \u001b[0;32mdef\u001b[0m \u001b[0mconvert_to_tensor_v2\u001b[0m\u001b[0;34m(\u001b[0m\u001b[0mvalue\u001b[0m\u001b[0;34m,\u001b[0m \u001b[0mdtype\u001b[0m\u001b[0;34m=\u001b[0m\u001b[0;32mNone\u001b[0m\u001b[0;34m,\u001b[0m \u001b[0mdtype_hint\u001b[0m\u001b[0;34m=\u001b[0m\u001b[0;32mNone\u001b[0m\u001b[0;34m,\u001b[0m \u001b[0mname\u001b[0m\u001b[0;34m=\u001b[0m\u001b[0;32mNone\u001b[0m\u001b[0;34m)\u001b[0m\u001b[0;34m:\u001b[0m\u001b[0;34m\u001b[0m\u001b[0;34m\u001b[0m\u001b[0m\n\u001b[1;32m   1435\u001b[0m   \u001b[0;34m\"\"\"Converts the given `value` to a `Tensor`.\"\"\"\u001b[0m\u001b[0;34m\u001b[0m\u001b[0;34m\u001b[0m\u001b[0m\n\u001b[0;32m-> 1436\u001b[0;31m   return convert_to_tensor(\n\u001b[0m\u001b[1;32m   1437\u001b[0m       \u001b[0mvalue\u001b[0m\u001b[0;34m=\u001b[0m\u001b[0mvalue\u001b[0m\u001b[0;34m,\u001b[0m\u001b[0;34m\u001b[0m\u001b[0;34m\u001b[0m\u001b[0m\n\u001b[1;32m   1438\u001b[0m       \u001b[0mdtype\u001b[0m\u001b[0;34m=\u001b[0m\u001b[0mdtype\u001b[0m\u001b[0;34m,\u001b[0m\u001b[0;34m\u001b[0m\u001b[0;34m\u001b[0m\u001b[0m\n",
      "\u001b[0;32m/usr/local/lib/python3.8/dist-packages/tensorflow/python/profiler/trace.py\u001b[0m in \u001b[0;36mwrapped\u001b[0;34m(*args, **kwargs)\u001b[0m\n\u001b[1;32m    161\u001b[0m         \u001b[0;32mwith\u001b[0m \u001b[0mTrace\u001b[0m\u001b[0;34m(\u001b[0m\u001b[0mtrace_name\u001b[0m\u001b[0;34m,\u001b[0m \u001b[0;34m**\u001b[0m\u001b[0mtrace_kwargs\u001b[0m\u001b[0;34m)\u001b[0m\u001b[0;34m:\u001b[0m\u001b[0;34m\u001b[0m\u001b[0;34m\u001b[0m\u001b[0m\n\u001b[1;32m    162\u001b[0m           \u001b[0;32mreturn\u001b[0m \u001b[0mfunc\u001b[0m\u001b[0;34m(\u001b[0m\u001b[0;34m*\u001b[0m\u001b[0margs\u001b[0m\u001b[0;34m,\u001b[0m \u001b[0;34m**\u001b[0m\u001b[0mkwargs\u001b[0m\u001b[0;34m)\u001b[0m\u001b[0;34m\u001b[0m\u001b[0;34m\u001b[0m\u001b[0m\n\u001b[0;32m--> 163\u001b[0;31m       \u001b[0;32mreturn\u001b[0m \u001b[0mfunc\u001b[0m\u001b[0;34m(\u001b[0m\u001b[0;34m*\u001b[0m\u001b[0margs\u001b[0m\u001b[0;34m,\u001b[0m \u001b[0;34m**\u001b[0m\u001b[0mkwargs\u001b[0m\u001b[0;34m)\u001b[0m\u001b[0;34m\u001b[0m\u001b[0;34m\u001b[0m\u001b[0m\n\u001b[0m\u001b[1;32m    164\u001b[0m \u001b[0;34m\u001b[0m\u001b[0m\n\u001b[1;32m    165\u001b[0m     \u001b[0;32mreturn\u001b[0m \u001b[0mwrapped\u001b[0m\u001b[0;34m\u001b[0m\u001b[0;34m\u001b[0m\u001b[0m\n",
      "\u001b[0;32m/usr/local/lib/python3.8/dist-packages/tensorflow/python/framework/ops.py\u001b[0m in \u001b[0;36mconvert_to_tensor\u001b[0;34m(value, dtype, name, as_ref, preferred_dtype, dtype_hint, ctx, accepted_result_types)\u001b[0m\n\u001b[1;32m   1564\u001b[0m \u001b[0;34m\u001b[0m\u001b[0m\n\u001b[1;32m   1565\u001b[0m     \u001b[0;32mif\u001b[0m \u001b[0mret\u001b[0m \u001b[0;32mis\u001b[0m \u001b[0;32mNone\u001b[0m\u001b[0;34m:\u001b[0m\u001b[0;34m\u001b[0m\u001b[0;34m\u001b[0m\u001b[0m\n\u001b[0;32m-> 1566\u001b[0;31m       \u001b[0mret\u001b[0m \u001b[0;34m=\u001b[0m \u001b[0mconversion_func\u001b[0m\u001b[0;34m(\u001b[0m\u001b[0mvalue\u001b[0m\u001b[0;34m,\u001b[0m \u001b[0mdtype\u001b[0m\u001b[0;34m=\u001b[0m\u001b[0mdtype\u001b[0m\u001b[0;34m,\u001b[0m \u001b[0mname\u001b[0m\u001b[0;34m=\u001b[0m\u001b[0mname\u001b[0m\u001b[0;34m,\u001b[0m \u001b[0mas_ref\u001b[0m\u001b[0;34m=\u001b[0m\u001b[0mas_ref\u001b[0m\u001b[0;34m)\u001b[0m\u001b[0;34m\u001b[0m\u001b[0;34m\u001b[0m\u001b[0m\n\u001b[0m\u001b[1;32m   1567\u001b[0m \u001b[0;34m\u001b[0m\u001b[0m\n\u001b[1;32m   1568\u001b[0m     \u001b[0;32mif\u001b[0m \u001b[0mret\u001b[0m \u001b[0;32mis\u001b[0m \u001b[0mNotImplemented\u001b[0m\u001b[0;34m:\u001b[0m\u001b[0;34m\u001b[0m\u001b[0;34m\u001b[0m\u001b[0m\n",
      "\u001b[0;32m/usr/local/lib/python3.8/dist-packages/tensorflow/python/framework/tensor_conversion_registry.py\u001b[0m in \u001b[0;36m_default_conversion_function\u001b[0;34m(***failed resolving arguments***)\u001b[0m\n\u001b[1;32m     50\u001b[0m \u001b[0;32mdef\u001b[0m \u001b[0m_default_conversion_function\u001b[0m\u001b[0;34m(\u001b[0m\u001b[0mvalue\u001b[0m\u001b[0;34m,\u001b[0m \u001b[0mdtype\u001b[0m\u001b[0;34m,\u001b[0m \u001b[0mname\u001b[0m\u001b[0;34m,\u001b[0m \u001b[0mas_ref\u001b[0m\u001b[0;34m)\u001b[0m\u001b[0;34m:\u001b[0m\u001b[0;34m\u001b[0m\u001b[0;34m\u001b[0m\u001b[0m\n\u001b[1;32m     51\u001b[0m   \u001b[0;32mdel\u001b[0m \u001b[0mas_ref\u001b[0m  \u001b[0;31m# Unused.\u001b[0m\u001b[0;34m\u001b[0m\u001b[0;34m\u001b[0m\u001b[0m\n\u001b[0;32m---> 52\u001b[0;31m   \u001b[0;32mreturn\u001b[0m \u001b[0mconstant_op\u001b[0m\u001b[0;34m.\u001b[0m\u001b[0mconstant\u001b[0m\u001b[0;34m(\u001b[0m\u001b[0mvalue\u001b[0m\u001b[0;34m,\u001b[0m \u001b[0mdtype\u001b[0m\u001b[0;34m,\u001b[0m \u001b[0mname\u001b[0m\u001b[0;34m=\u001b[0m\u001b[0mname\u001b[0m\u001b[0;34m)\u001b[0m\u001b[0;34m\u001b[0m\u001b[0;34m\u001b[0m\u001b[0m\n\u001b[0m\u001b[1;32m     53\u001b[0m \u001b[0;34m\u001b[0m\u001b[0m\n\u001b[1;32m     54\u001b[0m \u001b[0;34m\u001b[0m\u001b[0m\n",
      "\u001b[0;32m/usr/local/lib/python3.8/dist-packages/tensorflow/python/framework/constant_op.py\u001b[0m in \u001b[0;36mconstant\u001b[0;34m(value, dtype, shape, name)\u001b[0m\n\u001b[1;32m    262\u001b[0m     \u001b[0mValueError\u001b[0m\u001b[0;34m:\u001b[0m \u001b[0;32mif\u001b[0m \u001b[0mcalled\u001b[0m \u001b[0mon\u001b[0m \u001b[0ma\u001b[0m \u001b[0msymbolic\u001b[0m \u001b[0mtensor\u001b[0m\u001b[0;34m.\u001b[0m\u001b[0;34m\u001b[0m\u001b[0;34m\u001b[0m\u001b[0m\n\u001b[1;32m    263\u001b[0m   \"\"\"\n\u001b[0;32m--> 264\u001b[0;31m   return _constant_impl(value, dtype, shape, name, verify_shape=False,\n\u001b[0m\u001b[1;32m    265\u001b[0m                         allow_broadcast=True)\n\u001b[1;32m    266\u001b[0m \u001b[0;34m\u001b[0m\u001b[0m\n",
      "\u001b[0;32m/usr/local/lib/python3.8/dist-packages/tensorflow/python/framework/constant_op.py\u001b[0m in \u001b[0;36m_constant_impl\u001b[0;34m(value, dtype, shape, name, verify_shape, allow_broadcast)\u001b[0m\n\u001b[1;32m    274\u001b[0m       \u001b[0;32mwith\u001b[0m \u001b[0mtrace\u001b[0m\u001b[0;34m.\u001b[0m\u001b[0mTrace\u001b[0m\u001b[0;34m(\u001b[0m\u001b[0;34m\"tf.constant\"\u001b[0m\u001b[0;34m)\u001b[0m\u001b[0;34m:\u001b[0m\u001b[0;34m\u001b[0m\u001b[0;34m\u001b[0m\u001b[0m\n\u001b[1;32m    275\u001b[0m         \u001b[0;32mreturn\u001b[0m \u001b[0m_constant_eager_impl\u001b[0m\u001b[0;34m(\u001b[0m\u001b[0mctx\u001b[0m\u001b[0;34m,\u001b[0m \u001b[0mvalue\u001b[0m\u001b[0;34m,\u001b[0m \u001b[0mdtype\u001b[0m\u001b[0;34m,\u001b[0m \u001b[0mshape\u001b[0m\u001b[0;34m,\u001b[0m \u001b[0mverify_shape\u001b[0m\u001b[0;34m)\u001b[0m\u001b[0;34m\u001b[0m\u001b[0;34m\u001b[0m\u001b[0m\n\u001b[0;32m--> 276\u001b[0;31m     \u001b[0;32mreturn\u001b[0m \u001b[0m_constant_eager_impl\u001b[0m\u001b[0;34m(\u001b[0m\u001b[0mctx\u001b[0m\u001b[0;34m,\u001b[0m \u001b[0mvalue\u001b[0m\u001b[0;34m,\u001b[0m \u001b[0mdtype\u001b[0m\u001b[0;34m,\u001b[0m \u001b[0mshape\u001b[0m\u001b[0;34m,\u001b[0m \u001b[0mverify_shape\u001b[0m\u001b[0;34m)\u001b[0m\u001b[0;34m\u001b[0m\u001b[0;34m\u001b[0m\u001b[0m\n\u001b[0m\u001b[1;32m    277\u001b[0m \u001b[0;34m\u001b[0m\u001b[0m\n\u001b[1;32m    278\u001b[0m   \u001b[0mg\u001b[0m \u001b[0;34m=\u001b[0m \u001b[0mops\u001b[0m\u001b[0;34m.\u001b[0m\u001b[0mget_default_graph\u001b[0m\u001b[0;34m(\u001b[0m\u001b[0;34m)\u001b[0m\u001b[0;34m\u001b[0m\u001b[0;34m\u001b[0m\u001b[0m\n",
      "\u001b[0;32m/usr/local/lib/python3.8/dist-packages/tensorflow/python/framework/constant_op.py\u001b[0m in \u001b[0;36m_constant_eager_impl\u001b[0;34m(ctx, value, dtype, shape, verify_shape)\u001b[0m\n\u001b[1;32m    299\u001b[0m \u001b[0;32mdef\u001b[0m \u001b[0m_constant_eager_impl\u001b[0m\u001b[0;34m(\u001b[0m\u001b[0mctx\u001b[0m\u001b[0;34m,\u001b[0m \u001b[0mvalue\u001b[0m\u001b[0;34m,\u001b[0m \u001b[0mdtype\u001b[0m\u001b[0;34m,\u001b[0m \u001b[0mshape\u001b[0m\u001b[0;34m,\u001b[0m \u001b[0mverify_shape\u001b[0m\u001b[0;34m)\u001b[0m\u001b[0;34m:\u001b[0m\u001b[0;34m\u001b[0m\u001b[0;34m\u001b[0m\u001b[0m\n\u001b[1;32m    300\u001b[0m   \u001b[0;34m\"\"\"Implementation of eager constant.\"\"\"\u001b[0m\u001b[0;34m\u001b[0m\u001b[0;34m\u001b[0m\u001b[0m\n\u001b[0;32m--> 301\u001b[0;31m   \u001b[0mt\u001b[0m \u001b[0;34m=\u001b[0m \u001b[0mconvert_to_eager_tensor\u001b[0m\u001b[0;34m(\u001b[0m\u001b[0mvalue\u001b[0m\u001b[0;34m,\u001b[0m \u001b[0mctx\u001b[0m\u001b[0;34m,\u001b[0m \u001b[0mdtype\u001b[0m\u001b[0;34m)\u001b[0m\u001b[0;34m\u001b[0m\u001b[0;34m\u001b[0m\u001b[0m\n\u001b[0m\u001b[1;32m    302\u001b[0m   \u001b[0;32mif\u001b[0m \u001b[0mshape\u001b[0m \u001b[0;32mis\u001b[0m \u001b[0;32mNone\u001b[0m\u001b[0;34m:\u001b[0m\u001b[0;34m\u001b[0m\u001b[0;34m\u001b[0m\u001b[0m\n\u001b[1;32m    303\u001b[0m     \u001b[0;32mreturn\u001b[0m \u001b[0mt\u001b[0m\u001b[0;34m\u001b[0m\u001b[0;34m\u001b[0m\u001b[0m\n",
      "\u001b[0;32m/usr/local/lib/python3.8/dist-packages/tensorflow/python/framework/constant_op.py\u001b[0m in \u001b[0;36mconvert_to_eager_tensor\u001b[0;34m(value, ctx, dtype)\u001b[0m\n\u001b[1;32m     96\u001b[0m       \u001b[0mdtype\u001b[0m \u001b[0;34m=\u001b[0m \u001b[0mdtypes\u001b[0m\u001b[0;34m.\u001b[0m\u001b[0mas_dtype\u001b[0m\u001b[0;34m(\u001b[0m\u001b[0mdtype\u001b[0m\u001b[0;34m)\u001b[0m\u001b[0;34m.\u001b[0m\u001b[0mas_datatype_enum\u001b[0m\u001b[0;34m\u001b[0m\u001b[0;34m\u001b[0m\u001b[0m\n\u001b[1;32m     97\u001b[0m   \u001b[0mctx\u001b[0m\u001b[0;34m.\u001b[0m\u001b[0mensure_initialized\u001b[0m\u001b[0;34m(\u001b[0m\u001b[0;34m)\u001b[0m\u001b[0;34m\u001b[0m\u001b[0;34m\u001b[0m\u001b[0m\n\u001b[0;32m---> 98\u001b[0;31m   \u001b[0;32mreturn\u001b[0m \u001b[0mops\u001b[0m\u001b[0;34m.\u001b[0m\u001b[0mEagerTensor\u001b[0m\u001b[0;34m(\u001b[0m\u001b[0mvalue\u001b[0m\u001b[0;34m,\u001b[0m \u001b[0mctx\u001b[0m\u001b[0;34m.\u001b[0m\u001b[0mdevice_name\u001b[0m\u001b[0;34m,\u001b[0m \u001b[0mdtype\u001b[0m\u001b[0;34m)\u001b[0m\u001b[0;34m\u001b[0m\u001b[0;34m\u001b[0m\u001b[0m\n\u001b[0m\u001b[1;32m     99\u001b[0m \u001b[0;34m\u001b[0m\u001b[0m\n\u001b[1;32m    100\u001b[0m \u001b[0;34m\u001b[0m\u001b[0m\n",
      "\u001b[0;31mValueError\u001b[0m: Failed to convert a NumPy array to a Tensor (Unsupported object type Series)."
     ]
    }
   ],
   "source": [
    "model.compile(optimizer=Adam(learning_rate=0.01),\n",
    "            loss=\"mse\",\n",
    "            metrics=[\"mae\"],\n",
    "            # run_eagerly=True,\n",
    "        )\n",
    "epochs = 30\n",
    "#model.fit([X_train[textual_features],X_train[numeric_features],X_train[L_ohe]],y_train,epochs=epochs,\n",
    "#   batch_size=256)\n",
    "\n",
    "model.fit(np.array([[df[textual_features].iloc[i],df[numeric_features].iloc[i],df[L_ohe].iloc[i] ]for i in range(10)]),y_train.iloc[:10],epochs=epochs,\n",
    "   batch_size=256)\n"
   ]
  },
  {
   "cell_type": "code",
   "execution_count": null,
   "id": "5e741105-bb86-4047-94cf-2b3b141df141",
   "metadata": {},
   "outputs": [],
   "source": [
    "ohe_features=[\"title\",\"location\",\"gender\",\"year\",\"country\"]\n",
    "textual_features=[\"company\",\"level\",\"tag\",\"tag_truncated\"]\n",
    "numeric_features=[\"yearsofexperience\",\"yearsatcompany\"]"
   ]
  },
  {
   "cell_type": "code",
   "execution_count": 221,
   "id": "efb5ba93-d99a-4bc6-8e26-9228c87a7405",
   "metadata": {},
   "outputs": [
    {
     "data": {
      "text/html": [
       "<div>\n",
       "<style scoped>\n",
       "    .dataframe tbody tr th:only-of-type {\n",
       "        vertical-align: middle;\n",
       "    }\n",
       "\n",
       "    .dataframe tbody tr th {\n",
       "        vertical-align: top;\n",
       "    }\n",
       "\n",
       "    .dataframe thead th {\n",
       "        text-align: right;\n",
       "    }\n",
       "</style>\n",
       "<table border=\"1\" class=\"dataframe\">\n",
       "  <thead>\n",
       "    <tr style=\"text-align: right;\">\n",
       "      <th></th>\n",
       "      <th>company</th>\n",
       "      <th>level</th>\n",
       "      <th>tag</th>\n",
       "      <th>tag_truncated</th>\n",
       "      <th>yearsofexperience</th>\n",
       "      <th>yearsatcompany</th>\n",
       "      <th>title_Business Analyst</th>\n",
       "      <th>title_Data Scientist</th>\n",
       "      <th>title_Hardware Engineer</th>\n",
       "      <th>title_Human Resources</th>\n",
       "      <th>...</th>\n",
       "      <th>gender_Unavailable</th>\n",
       "      <th>year_2017</th>\n",
       "      <th>year_2018</th>\n",
       "      <th>year_2019</th>\n",
       "      <th>year_2020</th>\n",
       "      <th>year_2021</th>\n",
       "      <th>country_Canada</th>\n",
       "      <th>country_Germany</th>\n",
       "      <th>country_US</th>\n",
       "      <th>country_United Kingdom</th>\n",
       "    </tr>\n",
       "  </thead>\n",
       "  <tbody>\n",
       "    <tr>\n",
       "      <th>21286</th>\n",
       "      <td>70</td>\n",
       "      <td>50</td>\n",
       "      <td>20</td>\n",
       "      <td>8</td>\n",
       "      <td>2.0</td>\n",
       "      <td>1.0</td>\n",
       "      <td>0</td>\n",
       "      <td>1</td>\n",
       "      <td>0</td>\n",
       "      <td>0</td>\n",
       "      <td>...</td>\n",
       "      <td>0</td>\n",
       "      <td>0</td>\n",
       "      <td>0</td>\n",
       "      <td>0</td>\n",
       "      <td>1</td>\n",
       "      <td>0</td>\n",
       "      <td>0</td>\n",
       "      <td>0</td>\n",
       "      <td>1</td>\n",
       "      <td>0</td>\n",
       "    </tr>\n",
       "    <tr>\n",
       "      <th>19043</th>\n",
       "      <td>4</td>\n",
       "      <td>53</td>\n",
       "      <td>0</td>\n",
       "      <td>0</td>\n",
       "      <td>6.0</td>\n",
       "      <td>1.0</td>\n",
       "      <td>0</td>\n",
       "      <td>0</td>\n",
       "      <td>0</td>\n",
       "      <td>0</td>\n",
       "      <td>...</td>\n",
       "      <td>0</td>\n",
       "      <td>0</td>\n",
       "      <td>0</td>\n",
       "      <td>0</td>\n",
       "      <td>1</td>\n",
       "      <td>0</td>\n",
       "      <td>0</td>\n",
       "      <td>0</td>\n",
       "      <td>1</td>\n",
       "      <td>0</td>\n",
       "    </tr>\n",
       "    <tr>\n",
       "      <th>17937</th>\n",
       "      <td>66</td>\n",
       "      <td>72</td>\n",
       "      <td>21</td>\n",
       "      <td>22</td>\n",
       "      <td>2.0</td>\n",
       "      <td>1.0</td>\n",
       "      <td>0</td>\n",
       "      <td>0</td>\n",
       "      <td>0</td>\n",
       "      <td>0</td>\n",
       "      <td>...</td>\n",
       "      <td>1</td>\n",
       "      <td>0</td>\n",
       "      <td>0</td>\n",
       "      <td>0</td>\n",
       "      <td>1</td>\n",
       "      <td>0</td>\n",
       "      <td>0</td>\n",
       "      <td>0</td>\n",
       "      <td>1</td>\n",
       "      <td>0</td>\n",
       "    </tr>\n",
       "    <tr>\n",
       "      <th>18733</th>\n",
       "      <td>23</td>\n",
       "      <td>50</td>\n",
       "      <td>10</td>\n",
       "      <td>3</td>\n",
       "      <td>12.0</td>\n",
       "      <td>2.0</td>\n",
       "      <td>0</td>\n",
       "      <td>0</td>\n",
       "      <td>0</td>\n",
       "      <td>0</td>\n",
       "      <td>...</td>\n",
       "      <td>0</td>\n",
       "      <td>0</td>\n",
       "      <td>0</td>\n",
       "      <td>0</td>\n",
       "      <td>1</td>\n",
       "      <td>0</td>\n",
       "      <td>0</td>\n",
       "      <td>0</td>\n",
       "      <td>1</td>\n",
       "      <td>0</td>\n",
       "    </tr>\n",
       "    <tr>\n",
       "      <th>22150</th>\n",
       "      <td>40</td>\n",
       "      <td>9</td>\n",
       "      <td>28</td>\n",
       "      <td>14</td>\n",
       "      <td>13.0</td>\n",
       "      <td>9.0</td>\n",
       "      <td>0</td>\n",
       "      <td>0</td>\n",
       "      <td>0</td>\n",
       "      <td>0</td>\n",
       "      <td>...</td>\n",
       "      <td>0</td>\n",
       "      <td>0</td>\n",
       "      <td>0</td>\n",
       "      <td>0</td>\n",
       "      <td>1</td>\n",
       "      <td>0</td>\n",
       "      <td>0</td>\n",
       "      <td>0</td>\n",
       "      <td>1</td>\n",
       "      <td>0</td>\n",
       "    </tr>\n",
       "    <tr>\n",
       "      <th>...</th>\n",
       "      <td>...</td>\n",
       "      <td>...</td>\n",
       "      <td>...</td>\n",
       "      <td>...</td>\n",
       "      <td>...</td>\n",
       "      <td>...</td>\n",
       "      <td>...</td>\n",
       "      <td>...</td>\n",
       "      <td>...</td>\n",
       "      <td>...</td>\n",
       "      <td>...</td>\n",
       "      <td>...</td>\n",
       "      <td>...</td>\n",
       "      <td>...</td>\n",
       "      <td>...</td>\n",
       "      <td>...</td>\n",
       "      <td>...</td>\n",
       "      <td>...</td>\n",
       "      <td>...</td>\n",
       "      <td>...</td>\n",
       "      <td>...</td>\n",
       "    </tr>\n",
       "    <tr>\n",
       "      <th>9016</th>\n",
       "      <td>39</td>\n",
       "      <td>41</td>\n",
       "      <td>39</td>\n",
       "      <td>22</td>\n",
       "      <td>3.0</td>\n",
       "      <td>0.0</td>\n",
       "      <td>0</td>\n",
       "      <td>1</td>\n",
       "      <td>0</td>\n",
       "      <td>0</td>\n",
       "      <td>...</td>\n",
       "      <td>0</td>\n",
       "      <td>0</td>\n",
       "      <td>0</td>\n",
       "      <td>1</td>\n",
       "      <td>0</td>\n",
       "      <td>0</td>\n",
       "      <td>0</td>\n",
       "      <td>0</td>\n",
       "      <td>1</td>\n",
       "      <td>0</td>\n",
       "    </tr>\n",
       "    <tr>\n",
       "      <th>6478</th>\n",
       "      <td>26</td>\n",
       "      <td>63</td>\n",
       "      <td>22</td>\n",
       "      <td>9</td>\n",
       "      <td>11.0</td>\n",
       "      <td>0.0</td>\n",
       "      <td>0</td>\n",
       "      <td>0</td>\n",
       "      <td>0</td>\n",
       "      <td>0</td>\n",
       "      <td>...</td>\n",
       "      <td>0</td>\n",
       "      <td>0</td>\n",
       "      <td>0</td>\n",
       "      <td>1</td>\n",
       "      <td>0</td>\n",
       "      <td>0</td>\n",
       "      <td>0</td>\n",
       "      <td>0</td>\n",
       "      <td>0</td>\n",
       "      <td>1</td>\n",
       "    </tr>\n",
       "    <tr>\n",
       "      <th>16603</th>\n",
       "      <td>46</td>\n",
       "      <td>36</td>\n",
       "      <td>10</td>\n",
       "      <td>3</td>\n",
       "      <td>11.0</td>\n",
       "      <td>1.0</td>\n",
       "      <td>0</td>\n",
       "      <td>0</td>\n",
       "      <td>0</td>\n",
       "      <td>0</td>\n",
       "      <td>...</td>\n",
       "      <td>0</td>\n",
       "      <td>0</td>\n",
       "      <td>0</td>\n",
       "      <td>0</td>\n",
       "      <td>1</td>\n",
       "      <td>0</td>\n",
       "      <td>0</td>\n",
       "      <td>0</td>\n",
       "      <td>1</td>\n",
       "      <td>0</td>\n",
       "    </tr>\n",
       "    <tr>\n",
       "      <th>10250</th>\n",
       "      <td>4</td>\n",
       "      <td>52</td>\n",
       "      <td>15</td>\n",
       "      <td>6</td>\n",
       "      <td>3.0</td>\n",
       "      <td>0.0</td>\n",
       "      <td>0</td>\n",
       "      <td>0</td>\n",
       "      <td>0</td>\n",
       "      <td>0</td>\n",
       "      <td>...</td>\n",
       "      <td>0</td>\n",
       "      <td>0</td>\n",
       "      <td>0</td>\n",
       "      <td>0</td>\n",
       "      <td>1</td>\n",
       "      <td>0</td>\n",
       "      <td>0</td>\n",
       "      <td>0</td>\n",
       "      <td>0</td>\n",
       "      <td>1</td>\n",
       "    </tr>\n",
       "    <tr>\n",
       "      <th>26875</th>\n",
       "      <td>4</td>\n",
       "      <td>57</td>\n",
       "      <td>34</td>\n",
       "      <td>19</td>\n",
       "      <td>9.0</td>\n",
       "      <td>4.0</td>\n",
       "      <td>0</td>\n",
       "      <td>0</td>\n",
       "      <td>0</td>\n",
       "      <td>0</td>\n",
       "      <td>...</td>\n",
       "      <td>0</td>\n",
       "      <td>0</td>\n",
       "      <td>0</td>\n",
       "      <td>0</td>\n",
       "      <td>0</td>\n",
       "      <td>1</td>\n",
       "      <td>0</td>\n",
       "      <td>0</td>\n",
       "      <td>1</td>\n",
       "      <td>0</td>\n",
       "    </tr>\n",
       "  </tbody>\n",
       "</table>\n",
       "<p>25208 rows × 61 columns</p>\n",
       "</div>"
      ],
      "text/plain": [
       "       company  level  tag  tag_truncated  yearsofexperience  yearsatcompany  \\\n",
       "21286       70     50   20              8                2.0             1.0   \n",
       "19043        4     53    0              0                6.0             1.0   \n",
       "17937       66     72   21             22                2.0             1.0   \n",
       "18733       23     50   10              3               12.0             2.0   \n",
       "22150       40      9   28             14               13.0             9.0   \n",
       "...        ...    ...  ...            ...                ...             ...   \n",
       "9016        39     41   39             22                3.0             0.0   \n",
       "6478        26     63   22              9               11.0             0.0   \n",
       "16603       46     36   10              3               11.0             1.0   \n",
       "10250        4     52   15              6                3.0             0.0   \n",
       "26875        4     57   34             19                9.0             4.0   \n",
       "\n",
       "       title_Business Analyst  title_Data Scientist  title_Hardware Engineer  \\\n",
       "21286                       0                     1                        0   \n",
       "19043                       0                     0                        0   \n",
       "17937                       0                     0                        0   \n",
       "18733                       0                     0                        0   \n",
       "22150                       0                     0                        0   \n",
       "...                       ...                   ...                      ...   \n",
       "9016                        0                     1                        0   \n",
       "6478                        0                     0                        0   \n",
       "16603                       0                     0                        0   \n",
       "10250                       0                     0                        0   \n",
       "26875                       0                     0                        0   \n",
       "\n",
       "       title_Human Resources  ...  gender_Unavailable  year_2017  year_2018  \\\n",
       "21286                      0  ...                   0          0          0   \n",
       "19043                      0  ...                   0          0          0   \n",
       "17937                      0  ...                   1          0          0   \n",
       "18733                      0  ...                   0          0          0   \n",
       "22150                      0  ...                   0          0          0   \n",
       "...                      ...  ...                 ...        ...        ...   \n",
       "9016                       0  ...                   0          0          0   \n",
       "6478                       0  ...                   0          0          0   \n",
       "16603                      0  ...                   0          0          0   \n",
       "10250                      0  ...                   0          0          0   \n",
       "26875                      0  ...                   0          0          0   \n",
       "\n",
       "       year_2019  year_2020  year_2021  country_Canada  country_Germany  \\\n",
       "21286          0          1          0               0                0   \n",
       "19043          0          1          0               0                0   \n",
       "17937          0          1          0               0                0   \n",
       "18733          0          1          0               0                0   \n",
       "22150          0          1          0               0                0   \n",
       "...          ...        ...        ...             ...              ...   \n",
       "9016           1          0          0               0                0   \n",
       "6478           1          0          0               0                0   \n",
       "16603          0          1          0               0                0   \n",
       "10250          0          1          0               0                0   \n",
       "26875          0          0          1               0                0   \n",
       "\n",
       "       country_US  country_United Kingdom  \n",
       "21286           1                       0  \n",
       "19043           1                       0  \n",
       "17937           1                       0  \n",
       "18733           1                       0  \n",
       "22150           1                       0  \n",
       "...           ...                     ...  \n",
       "9016            1                       0  \n",
       "6478            0                       1  \n",
       "16603           1                       0  \n",
       "10250           0                       1  \n",
       "26875           1                       0  \n",
       "\n",
       "[25208 rows x 61 columns]"
      ]
     },
     "execution_count": 221,
     "metadata": {},
     "output_type": "execute_result"
    }
   ],
   "source": [
    "X_train"
   ]
  },
  {
   "cell_type": "code",
   "execution_count": 273,
   "id": "dcd6def0-bb63-4630-84f3-47035ad2dfa7",
   "metadata": {},
   "outputs": [
    {
     "data": {
      "text/plain": [
       "[       company  level  tag  tag_truncated\n",
       " 21286       70     50   20              8\n",
       " 19043        4     53    0              0\n",
       " 17937       66     72   21             22\n",
       " 18733       23     50   10              3\n",
       " 22150       40      9   28             14\n",
       " ...        ...    ...  ...            ...\n",
       " 9016        39     41   39             22\n",
       " 6478        26     63   22              9\n",
       " 16603       46     36   10              3\n",
       " 10250        4     52   15              6\n",
       " 26875        4     57   34             19\n",
       " \n",
       " [25208 rows x 4 columns],\n",
       "        yearsofexperience  yearsatcompany\n",
       " 21286                2.0             1.0\n",
       " 19043                6.0             1.0\n",
       " 17937                2.0             1.0\n",
       " 18733               12.0             2.0\n",
       " 22150               13.0             9.0\n",
       " ...                  ...             ...\n",
       " 9016                 3.0             0.0\n",
       " 6478                11.0             0.0\n",
       " 16603               11.0             1.0\n",
       " 10250                3.0             0.0\n",
       " 26875                9.0             4.0\n",
       " \n",
       " [25208 rows x 2 columns],\n",
       "        title_Business Analyst  title_Data Scientist  title_Hardware Engineer  \\\n",
       " 21286                       0                     1                        0   \n",
       " 19043                       0                     0                        0   \n",
       " 17937                       0                     0                        0   \n",
       " 18733                       0                     0                        0   \n",
       " 22150                       0                     0                        0   \n",
       " ...                       ...                   ...                      ...   \n",
       " 9016                        0                     1                        0   \n",
       " 6478                        0                     0                        0   \n",
       " 16603                       0                     0                        0   \n",
       " 10250                       0                     0                        0   \n",
       " 26875                       0                     0                        0   \n",
       " \n",
       "        title_Human Resources  title_Management Consultant  title_Marketing  \\\n",
       " 21286                      0                            0                0   \n",
       " 19043                      0                            0                0   \n",
       " 17937                      0                            0                1   \n",
       " 18733                      0                            0                0   \n",
       " 22150                      0                            0                0   \n",
       " ...                      ...                          ...              ...   \n",
       " 9016                       0                            0                0   \n",
       " 6478                       0                            0                0   \n",
       " 16603                      0                            0                0   \n",
       " 10250                      0                            0                0   \n",
       " 26875                      0                            0                0   \n",
       " \n",
       "        title_Mechanical Engineer  title_Product Designer  \\\n",
       " 21286                          0                       0   \n",
       " 19043                          0                       0   \n",
       " 17937                          0                       0   \n",
       " 18733                          0                       0   \n",
       " 22150                          0                       0   \n",
       " ...                          ...                     ...   \n",
       " 9016                           0                       0   \n",
       " 6478                           0                       0   \n",
       " 16603                          0                       0   \n",
       " 10250                          0                       0   \n",
       " 26875                          0                       1   \n",
       " \n",
       "        title_Product Manager  title_Recruiter  ...  gender_Unavailable  \\\n",
       " 21286                      0                0  ...                   0   \n",
       " 19043                      0                0  ...                   0   \n",
       " 17937                      0                0  ...                   1   \n",
       " 18733                      0                0  ...                   0   \n",
       " 22150                      0                0  ...                   0   \n",
       " ...                      ...              ...  ...                 ...   \n",
       " 9016                       0                0  ...                   0   \n",
       " 6478                       0                0  ...                   0   \n",
       " 16603                      0                0  ...                   0   \n",
       " 10250                      0                0  ...                   0   \n",
       " 26875                      0                0  ...                   0   \n",
       " \n",
       "        year_2017  year_2018  year_2019  year_2020  year_2021  country_Canada  \\\n",
       " 21286          0          0          0          1          0               0   \n",
       " 19043          0          0          0          1          0               0   \n",
       " 17937          0          0          0          1          0               0   \n",
       " 18733          0          0          0          1          0               0   \n",
       " 22150          0          0          0          1          0               0   \n",
       " ...          ...        ...        ...        ...        ...             ...   \n",
       " 9016           0          0          1          0          0               0   \n",
       " 6478           0          0          1          0          0               0   \n",
       " 16603          0          0          0          1          0               0   \n",
       " 10250          0          0          0          1          0               0   \n",
       " 26875          0          0          0          0          1               0   \n",
       " \n",
       "        country_Germany  country_US  country_United Kingdom  \n",
       " 21286                0           1                       0  \n",
       " 19043                0           1                       0  \n",
       " 17937                0           1                       0  \n",
       " 18733                0           1                       0  \n",
       " 22150                0           1                       0  \n",
       " ...                ...         ...                     ...  \n",
       " 9016                 0           1                       0  \n",
       " 6478                 0           0                       1  \n",
       " 16603                0           1                       0  \n",
       " 10250                0           0                       1  \n",
       " 26875                0           1                       0  \n",
       " \n",
       " [25208 rows x 55 columns]]"
      ]
     },
     "execution_count": 273,
     "metadata": {},
     "output_type": "execute_result"
    }
   ],
   "source": [
    "[X_train[textual_features],X_train[numeric_features],X_train[L_ohe]]"
   ]
  },
  {
   "cell_type": "code",
   "execution_count": null,
   "id": "560f5a52-9108-4090-b3a2-3fadde5bcd6f",
   "metadata": {},
   "outputs": [],
   "source": []
  }
 ],
 "metadata": {
  "kernelspec": {
   "display_name": "Python 3 (ipykernel)",
   "language": "python",
   "name": "python3"
  },
  "language_info": {
   "codemirror_mode": {
    "name": "ipython",
    "version": 3
   },
   "file_extension": ".py",
   "mimetype": "text/x-python",
   "name": "python",
   "nbconvert_exporter": "python",
   "pygments_lexer": "ipython3",
   "version": "3.8.10"
  }
 },
 "nbformat": 4,
 "nbformat_minor": 5
}
